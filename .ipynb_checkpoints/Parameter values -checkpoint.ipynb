{
 "cells": [
  {
   "cell_type": "code",
   "execution_count": 58,
   "id": "3b4d99fa",
   "metadata": {},
   "outputs": [],
   "source": [
    "#Script for finding correct parameter values that gives back the Higgs mass at zero temperature.\n",
    "#Begin by defining an effective potential w/o radiative corrections. \n",
    "\n",
    "import numpy as np\n",
    "import cmath\n",
    "import matplotlib.pyplot as plt\n",
    "from scipy.misc import derivative\n",
    "from scipy import optimize"
   ]
  },
  {
   "cell_type": "code",
   "execution_count": 59,
   "id": "0dfebea1",
   "metadata": {},
   "outputs": [],
   "source": [
    "#yukawa coupling constant of fermion f \n",
    "y_f = 0.99                                          #(for the top quark)\n",
    "\n",
    "#EW - sector coupling constants g (SU(2)_L) and g_p (U(1)_Y) \n",
    "g = 0.65\n",
    "g_p = 0.36\n",
    "eps = 0.00001\n",
    "\n",
    "# Effective mass of fermion f acquired through yukawa coupling w/ the Higgs\n",
    "def m_f(phi):\n",
    "    return y_f**2/2*phi**2 + eps\n",
    "\n",
    "# W and Z boson masses\n",
    "def m_W(phi):\n",
    "    return (g**2/4)*phi**2 + eps\n",
    "\n",
    "def m_Z(phi):\n",
    "    return (g**2 + g_p**2)*phi**2/4 + eps\n",
    "\n",
    "# Higgs and Goldstone masses\n",
    "def m_h(phi, mu, lam, Lam):                                               \n",
    "    return -3*lam*phi**2 + mu + (15/4)*phi**4/Lam**2 + eps\n",
    "\n",
    "#m_h 0 at h_min = (2/5)*(lam/c6)*(1 - np.sqrt(1-5/3*c6*(mu**2)/lam**2))\n",
    "\n",
    "def m_g(phi, mu, lam, Lam):\n",
    "    return -lam*phi**2 + mu + (3/4)*phi**4/Lam**2 + eps"
   ]
  },
  {
   "cell_type": "code",
   "execution_count": 60,
   "id": "9288a680",
   "metadata": {},
   "outputs": [],
   "source": [
    "# different parts of the 1loop effective potential calculated in the ms-scheme. For the first order correction,\n",
    "# separating the contribution coming from gauge bosons and other particles. obs! input for the first order corrections are \n",
    "# the squared masses, i.e. m**2 and not m.  \n",
    "\n",
    "def v_tree(phi, mu, lam, Lam):\n",
    "    return mu/2*phi**2 - lam/4*phi**4 + phi**6/(8*Lam**2)\n",
    "\n",
    "def v_loop_g(m):\n",
    "    scale = 91\n",
    "    return m**2/(64*np.pi**2)*(cmath.log(m/scale) - 5/6)\n",
    "\n",
    "def v_loop(m):\n",
    "    scale = 91\n",
    "    return m**2/(64*np.pi**2)*(cmath.log(m/scale) - 3/2)\n",
    "\n",
    "\n",
    "def v_1(phi, mu, lam, Lam):\n",
    "    return np.real(v_loop(m_h(phi, mu, lam, Lam)) + 3*v_loop(m_g(phi, mu, lam, Lam)) - 12*v_loop(m_f(phi))\n",
    "             + 3*v_loop_g(m_Z(phi)) + 6*v_loop_g(m_W(phi)))\n",
    "\n",
    "def v_eff(phi, mu, lam, Lam):\n",
    "    return np.real(v_tree(phi, mu, lam, Lam) + v_1(phi, mu, lam, Lam))"
   ]
  },
  {
   "cell_type": "code",
   "execution_count": 61,
   "id": "0b173ca7",
   "metadata": {},
   "outputs": [],
   "source": [
    "# defining the minimum and second derivative (at the minimum) of the 1-loop potential as a function of the parameter values \n",
    "# \n",
    "def phi_min(mu,lam,Lam):\n",
    "    #initial guess to where the minimum can be is the tree level minimum\n",
    "    #if mu < 0:\n",
    "    #    phi_0 = np.sqrt((2*Lam**2)/3*(lam + np.sqrt(lam**2 - 3*mu/Lam**2)))\n",
    "    #else:\n",
    "    #    phi_0 = np.sqrt((2*Lam**2)/3*(lam + np.sqrt(lam**2 + 3*mu/Lam**2)))    \n",
    "    phi_0 = np.sqrt((2*Lam**2)/3*(lam + np.sqrt(lam**2 - 3*mu/Lam**2)))\n",
    "    phi_1 = -derivative(v_1, phi_0, args=(mu,lam,Lam), order=5, dx=0.01)/m_h(phi_0, mu,lam,Lam)\n",
    "    return  phi_0 + phi_1 \n",
    "\n",
    "#Second derivative of the effective potential at it's minimum\n",
    "def d2_v(mu,lam,Lam):\n",
    "    \n",
    "    phi = phi_min(mu,lam,Lam)\n",
    "    return derivative(v_eff, phi, args = (mu,lam,Lam), n=2, dx=0.01)\n",
    "\n",
    "\n",
    "# function we want to minimimize wrt to parameters mu, lam, Lam to give correct effective potential\n",
    "def opt(x):\n",
    "    mu, lam, Lam = x\n",
    "    v = 246\n",
    "    mh = 125**2\n",
    "    return (phi_min(mu,lam,Lam) - v)**2 + (d2_v(mu,lam,Lam) - mh)**2\n",
    "\n",
    "#Tree level parameters as functions of physical observables to be used as starting guesses for the optimization\n",
    "def mu0(Lam):\n",
    "    mh = 125\n",
    "    v = 246\n",
    "    return -mh**2/2 + 3/4*v**4/Lam**2\n",
    "\n",
    "def lam0(Lam):\n",
    "    mh = 125\n",
    "    v = 246\n",
    "    return +3/2*v**2/Lam**2 - mh**2/(2*v**2)                                "
   ]
  },
  {
   "cell_type": "code",
   "execution_count": 62,
   "id": "a6f69987",
   "metadata": {},
   "outputs": [
    {
     "name": "stderr",
     "output_type": "stream",
     "text": [
      "C:\\Users\\alana\\AppData\\Local\\Temp/ipykernel_7076/2925799790.py:9: RuntimeWarning: invalid value encountered in sqrt\n",
      "  phi_0 = np.sqrt((2*Lam**2)/3*(lam + np.sqrt(lam**2 - 3*mu/Lam**2)))\n"
     ]
    }
   ],
   "source": [
    "# Making the list of all parameters which satisfy the T=0 conditions of the effective potential.\n",
    "# Starting with making list of initial conditions\n",
    "\n",
    "Lam = np.linspace(500, 1000, 1000)\n",
    "\n",
    "x0 = []\n",
    "\n",
    "for L in Lam:\n",
    "    x0.append([mu0(L), lam0(L), L])\n",
    "\n",
    "\n",
    "       \n",
    "#Bounds for the parameters:\n",
    "bnds = ((0,4000), (0, 1), (500,1000))\n",
    "\n",
    "#Constraints for the varibles. \n",
    "cons = ({'type': 'eq', 'fun': lambda x: phi_min(x[0], x[1], x[2]) - 246},\n",
    "        {'type': 'eq', 'fun': lambda x: d2_v(x[0], x[1], x[2]) - 125**2})\n",
    "\n",
    "parameters = []\n",
    "\n",
    "for row in x0:\n",
    "    results = optimize.minimize(opt, x0 = row, method ='SLSQP', bounds = bnds, constraints = cons)\n",
    "    mu, lam, Lam = results.x\n",
    "    if np.abs(phi_min(mu,lam,Lam)-246) <= 5 and np.abs(d2_v(mu,lam,Lam) - 125**2) <= 500:\n",
    "        print('här')\n",
    "        parameters.append(results.x)\n",
    "    \n",
    "    \n",
    "# Sort the paramaeter values by the third entry i.e along Lam in ascending order\n",
    "# If spacing between different Lam values is big enough, the list will probalby \n",
    "# already be sorted and this step is unneccesary.\n",
    "\n",
    "parameters.sort(key=lambda row: (row[2]), reverse=False)"
   ]
  },
  {
   "cell_type": "code",
   "execution_count": 63,
   "id": "360912f6",
   "metadata": {},
   "outputs": [
    {
     "name": "stdout",
     "output_type": "stream",
     "text": [
      "[]\n"
     ]
    },
    {
     "name": "stderr",
     "output_type": "stream",
     "text": [
      "C:\\Users\\alana\\AppData\\Local\\Temp/ipykernel_7076/3638168346.py:10: UserWarning: loadtxt: Empty input file: \"parameters5.txt\"\n",
      "  og_array = np.loadtxt('parameters5.txt').reshape(-1,3)\n"
     ]
    }
   ],
   "source": [
    "# Saving the list results to be later used in other scripts \n",
    "# The values will be saved in a long list, use reshape to get the correct array of tuples with the three parameters\n",
    "parameters_file = open('parameters5.txt', 'w')\n",
    "\n",
    "for row in parameters:\n",
    "    np.savetxt(parameters_file, row)\n",
    "    \n",
    "parameters_file.close()\n",
    "\n",
    "og_array = np.loadtxt('parameters5.txt').reshape(-1,3)\n",
    "print(og_array)"
   ]
  },
  {
   "cell_type": "code",
   "execution_count": 64,
   "id": "62ae99d9",
   "metadata": {},
   "outputs": [
    {
     "ename": "IndexError",
     "evalue": "list index out of range",
     "output_type": "error",
     "traceback": [
      "\u001b[1;31m---------------------------------------------------------------------------\u001b[0m",
      "\u001b[1;31mIndexError\u001b[0m                                Traceback (most recent call last)",
      "\u001b[1;32m~\\AppData\\Local\\Temp/ipykernel_7076/4147340772.py\u001b[0m in \u001b[0;36m<module>\u001b[1;34m\u001b[0m\n\u001b[1;32m----> 1\u001b[1;33m \u001b[0mmu\u001b[0m\u001b[1;33m,\u001b[0m \u001b[0mlam\u001b[0m\u001b[1;33m,\u001b[0m \u001b[0mLam\u001b[0m \u001b[1;33m=\u001b[0m \u001b[0mparameters\u001b[0m\u001b[1;33m[\u001b[0m\u001b[1;36m1\u001b[0m\u001b[1;33m]\u001b[0m     \u001b[1;31m#parameters[0]\u001b[0m\u001b[1;33m\u001b[0m\u001b[1;33m\u001b[0m\u001b[0m\n\u001b[0m\u001b[0;32m      2\u001b[0m \u001b[0mphi\u001b[0m \u001b[1;33m=\u001b[0m \u001b[0mnp\u001b[0m\u001b[1;33m.\u001b[0m\u001b[0mlinspace\u001b[0m\u001b[1;33m(\u001b[0m\u001b[1;36m0\u001b[0m\u001b[1;33m,\u001b[0m\u001b[1;36m300\u001b[0m\u001b[1;33m,\u001b[0m\u001b[1;36m100\u001b[0m\u001b[1;33m)\u001b[0m\u001b[1;33m\u001b[0m\u001b[1;33m\u001b[0m\u001b[0m\n\u001b[0;32m      3\u001b[0m \u001b[1;33m\u001b[0m\u001b[0m\n\u001b[0;32m      4\u001b[0m \u001b[0mplt\u001b[0m\u001b[1;33m.\u001b[0m\u001b[0mplot\u001b[0m\u001b[1;33m(\u001b[0m\u001b[0mphi\u001b[0m\u001b[1;33m/\u001b[0m\u001b[1;36m246\u001b[0m\u001b[1;33m,\u001b[0m \u001b[0mnp\u001b[0m\u001b[1;33m.\u001b[0m\u001b[0mvectorize\u001b[0m\u001b[1;33m(\u001b[0m\u001b[0mv_eff\u001b[0m\u001b[1;33m)\u001b[0m\u001b[1;33m(\u001b[0m\u001b[0mphi\u001b[0m\u001b[1;33m,\u001b[0m \u001b[0mmu\u001b[0m\u001b[1;33m,\u001b[0m \u001b[0mlam\u001b[0m\u001b[1;33m,\u001b[0m \u001b[0mLam\u001b[0m\u001b[1;33m)\u001b[0m\u001b[1;33m/\u001b[0m\u001b[1;36m246\u001b[0m\u001b[1;33m**\u001b[0m\u001b[1;36m4\u001b[0m\u001b[1;33m)\u001b[0m\u001b[1;33m\u001b[0m\u001b[1;33m\u001b[0m\u001b[0m\n\u001b[0;32m      5\u001b[0m \u001b[0mprint\u001b[0m\u001b[1;33m(\u001b[0m\u001b[0mmu\u001b[0m\u001b[1;33m,\u001b[0m \u001b[0mlam\u001b[0m\u001b[1;33m,\u001b[0m \u001b[0mLam\u001b[0m\u001b[1;33m)\u001b[0m\u001b[1;33m\u001b[0m\u001b[1;33m\u001b[0m\u001b[0m\n",
      "\u001b[1;31mIndexError\u001b[0m: list index out of range"
     ]
    }
   ],
   "source": [
    "mu, lam, Lam = parameters[1]     #parameters[0]\n",
    "phi = np.linspace(0,300,100)\n",
    "\n",
    "plt.plot(phi/246, np.vectorize(v_eff)(phi, mu, lam, Lam)/246**4)\n",
    "print(mu, lam, Lam)\n",
    "print(np.sqrt(d2_v(mu,lam,Lam)))\n",
    "print(phi_min(mu,lam,Lam))\n",
    "print(optimize.fmin(v_eff,300, args=(mu,lam,Lam), disp=0)[0])"
   ]
  },
  {
   "cell_type": "code",
   "execution_count": null,
   "id": "f516501f",
   "metadata": {},
   "outputs": [],
   "source": [
    "#Scatterplot of parameterspace\n",
    "import matplotlib.pyplot as plt\n",
    "import seaborn as sns\n",
    "import pandas as pd\n",
    "\n",
    "sns.set_style('whitegrid')\n",
    "\n",
    "plt.rc('axes', titlesize=16)     # fontsize of the axes title\n",
    "plt.rc('axes', labelsize=14)     # fontsize of the x and y labels\n",
    "plt.rc('xtick', labelsize=13)    # fontsize of the tick labels\n",
    "plt.rc('ytick', labelsize=13)    # fontsize of the tick labels\n",
    "plt.rc('legend', fontsize=13)    # legend fontsize\n",
    "plt.rc('font', size=13)          # controls default text sizes\n"
   ]
  },
  {
   "cell_type": "code",
   "execution_count": null,
   "id": "7fec212b",
   "metadata": {},
   "outputs": [],
   "source": [
    "mu, lam, Lam = og_array[:,0], og_array[:,1], og_array[:,2]\n",
    "\n",
    "plt.figure(figsize=(7,5), tight_layout=True)\n",
    "plt.scatter(lam,mu, c=Lam, s = 100)\n",
    "plt.xlabel('$\\lambda$')\n",
    "plt.ylabel('$\\mu^2 \\: GeV^2$')\n",
    "plt.colorbar().set_label('$\\Lambda$ GeV')\n",
    "\n",
    "plt.savefig('param1.eps')"
   ]
  },
  {
   "cell_type": "code",
   "execution_count": null,
   "id": "907172f1",
   "metadata": {},
   "outputs": [],
   "source": []
  }
 ],
 "metadata": {
  "kernelspec": {
   "display_name": "Python 3 (ipykernel)",
   "language": "python",
   "name": "python3"
  },
  "language_info": {
   "codemirror_mode": {
    "name": "ipython",
    "version": 3
   },
   "file_extension": ".py",
   "mimetype": "text/x-python",
   "name": "python",
   "nbconvert_exporter": "python",
   "pygments_lexer": "ipython3",
   "version": "3.9.7"
  }
 },
 "nbformat": 4,
 "nbformat_minor": 5
}
