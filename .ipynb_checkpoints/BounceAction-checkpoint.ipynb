{
 "cells": [
  {
   "cell_type": "code",
   "execution_count": 2,
   "id": "81d62e09",
   "metadata": {},
   "outputs": [],
   "source": [
    "import scipy.integrate as integrate \n",
    "import math\n",
    "from matplotlib import cm\n",
    "import numpy as np\n",
    "import matplotlib.pyplot as plt\n",
    "from scipy.integrate import solve_ivp\n",
    "import scipy.integrate as integrate \n",
    "import cmath \n",
    "from scipy import optimize\n",
    "from scipy.misc import derivative"
   ]
  },
  {
   "cell_type": "code",
   "execution_count": 3,
   "id": "b1c0ddb9",
   "metadata": {},
   "outputs": [],
   "source": [
    "#yukawa coupling constant of fermion f \n",
    "y_f = 0.99                                          #(for the top quark)\n",
    "\n",
    "#EW - sector coupling constants g (SU(2)_L) and g_p (U(1)_Y) \n",
    "g = 0.65\n",
    "g_p = 0.36\n",
    "eps = 0.0000001\n",
    "\n",
    "# Effective mass of fermion f acquired through yukawa coupling w/ the Higgs\n",
    "def m_f(phi):\n",
    "    return y_f**2/2*phi**2 + eps\n",
    "\n",
    "# W and Z boson masses\n",
    "def m_W(phi):\n",
    "    return (g**2/4)*phi**2 + eps\n",
    "\n",
    "def m_Z(phi):\n",
    "    return (g**2 + g_p**2)*phi**2/4 + eps\n",
    "\n",
    "# Higgs and Goldstone masses\n",
    "def m_h(phi):                                               \n",
    "    return -3*lam*phi**2 - mu + (15/4)*phi**4/Lam**2 + eps\n",
    "\n",
    "#m_h 0 at h_min = (2/5)*(lam/c6)*(1 - np.sqrt(1-5/3*c6*(mu**2)/lam**2))\n",
    "\n",
    "def m_g(phi):\n",
    "    return -lam*phi**2 - mu + (3/4)*phi**4/Lam**2 + eps\n"
   ]
  },
  {
   "cell_type": "code",
   "execution_count": 4,
   "id": "d6a7cd10",
   "metadata": {},
   "outputs": [],
   "source": [
    "# different parts of the 1-loop effective potential calculated in the ms-scheme.\n",
    "# separating the contribution coming from gauge bosons and other particles in the loop correction. \n",
    "# obs! input for the first order corrections are the squared masses, i.e. m**2 and not m.  \n",
    "\n",
    "def v_tree(phi):\n",
    "    return -mu/2*phi**2 - lam/4*phi**4 + 1/(8*Lam**2)*phi**6\n",
    "\n",
    "def v_loop_g(m):\n",
    "    #Coleman-Weinberg potential for gauge bosons as a function of mass squared.\n",
    "    scale = 246\n",
    "    return m**2/(64*np.pi**2)*(cmath.log(m/scale) - 5/6)\n",
    "\n",
    "def v_loop(m):\n",
    "    #Coleman-Weinberg potential for particles as a function of mass squared.\n",
    "    scale = 246\n",
    "    return m**2/(64*np.pi**2)*(cmath.log(m/scale) - 3/2)\n",
    "\n",
    "\n",
    "def v_1(phi):\n",
    "    return np.real(v_loop(m_h(phi)) + 3*v_loop(m_g(phi)) - 12*v_loop(m_f(phi))\n",
    "             + 3*v_loop_g(m_Z(phi)) + 6*v_loop_g(m_W(phi)))\n",
    "\n",
    "#this is the temperature independent part of the effective potential\n",
    "def v_eff_0(phi):\n",
    "    return np.real(v_tree(phi) + v_1(phi))\n",
    "\n",
    "\n",
    "#defining high T expansion of the bosonic (j_b) and fermionic (j_f) thermal functions\n",
    "def j_b(y):\n",
    "    a_b = np.pi**2*np.exp(3/2 - 2*0.5572)\n",
    "    return (np.pi**2/12)*y**2 - np.pi/6*y**3 - (1/32)*y**4*cmath.log(y**2/a_b)\n",
    "\n",
    "def j_f(y):\n",
    "    a_f = 16*np.pi**2*np.exp(3/2 - 2*0.5572)\n",
    "    return -(np.pi**2/24)*y**2 - (1/32)*y**4*cmath.log(y**2/a_f)\n",
    "\n",
    "def v_eff_T(phi,T):\n",
    "    return T**4/(2*np.pi**2)*(j_b(cmath.sqrt(m_h(phi))/T) + 3*j_b(cmath.sqrt(m_g(phi))/T) + 3*j_b(cmath.sqrt(m_Z(phi))/T)\n",
    "                             + 6*j_b(cmath.sqrt(m_W(phi))/T) - 12*j_f(cmath.sqrt(m_f(phi))/T))"
   ]
  },
  {
   "cell_type": "code",
   "execution_count": 5,
   "id": "762f1478",
   "metadata": {},
   "outputs": [
    {
     "name": "stdout",
     "output_type": "stream",
     "text": [
      "22.477626870862508\n"
     ]
    },
    {
     "data": {
      "text/plain": [
       "Text(0.5, 1.0, '1-loop effective potential at  T = 41.0000 GeV')"
      ]
     },
     "execution_count": 5,
     "metadata": {},
     "output_type": "execute_result"
    },
    {
     "data": {
      "image/png": "[encoded data removed]",
      "text/plain": [
       "<Figure size 432x288 with 1 Axes>"
      ]
     },
     "metadata": {
      "needs_background": "light"
     },
     "output_type": "display_data"
    }
   ],
   "source": [
    "mu = 181.11189133118546\n",
    "lam = 0.05224133191889968\n",
    "Lam = 634.4481474884878\n",
    "\n",
    "\n",
    "#1-loop effective potential\n",
    "def v_eff(phi,T):\n",
    "    return np.real(v_eff_0(phi) + v_eff_T(phi,T)) #- np.real(v_eff_0(0) + v_eff_T(0,T)) \n",
    "    \n",
    "a = 6*lam + 9/4*g**2 + 3/4*g_p**2 + 3*y_f**2\n",
    "phi = np.linspace(0, 300, 200)\n",
    "\n",
    "T_min = np.sqrt(12/a)*np.sqrt(mu) \n",
    "print(T_min)\n",
    "T = 41\n",
    "\n",
    "\n",
    "plt.plot(phi, np.vectorize(v_eff)(phi,T))\n",
    "plt.xlabel('$\\phi$')\n",
    "plt.ylabel('$V_{eff}(\\phi)$')\n",
    "plt.title('1-loop effective potential at  T = %1.4f GeV'  % T)"
   ]
  },
  {
   "cell_type": "code",
   "execution_count": 135,
   "id": "565821e7",
   "metadata": {},
   "outputs": [
    {
     "name": "stdout",
     "output_type": "stream",
     "text": [
      "109.45231189477948 271.4816665649414\n",
      "strength of phase transition: 2.4803648444258233\n"
     ]
    }
   ],
   "source": [
    "#Finding the critical temperature where the effective potential acquires the same value at both minima\n",
    "\n",
    "\n",
    "# defining a recursive method for finding the critical temperature up to some tolerance which is chosen when calling the \n",
    "# function. The function requires a span/interval of temperaturs to as to where it should look for the \n",
    "#\n",
    "# \n",
    "\n",
    "\n",
    "def find_t_crit(t_span, tolerance):\n",
    "    T = np.mean(t_span)\n",
    "    \n",
    "    def v_eff_T(phi):\n",
    "        return v_eff(phi,T)\n",
    "    \n",
    "    symm_vac = optimize.fmin(v_eff_T, 0, disp = 0)[0]\n",
    "    broken_vac = optimize.fmin(v_eff_T, 300, disp = 0)[0]\n",
    "    \n",
    "    \n",
    "    min1 = v_eff_T(symm_vac)\n",
    "    min2 = v_eff_T(broken_vac)\n",
    "    \n",
    "    if np.abs(symm_vac - broken_vac) <= tolerance:\n",
    "        #this is condition for T being too high and only in symmetric phase, Tis to high\n",
    "        return find_t_crit([t_span[0], np.mean(t_span)], tolerance)\n",
    "    \n",
    "    elif np.abs(min2 - min1) <= tolerance:\n",
    "        #condition for being at the critical temperature\n",
    "        return T, broken_vac\n",
    "    \n",
    "    elif min2 - min1 > tolerance:\n",
    "        #the broken phase is higher up than the symmetric one, Temperature is to high\n",
    "        return find_t_crit([t_span[0], np.mean(t_span)],tolerance)\n",
    "    else:\n",
    "        return find_t_crit([np.mean(t_span), t_span[1]],tolerance) \n",
    "\n",
    "    \n",
    "t_span = [1.01*T_min, 300]\n",
    "tolerance = 1\n",
    "\n",
    "t_c , phi_c = find_t_crit(t_span, tolerance)   \n",
    "print(t_c, phi_c)\n",
    "print('strength of phase transition:', phi_c/t_c)"
   ]
  },
  {
   "cell_type": "code",
   "execution_count": 7,
   "id": "ab37ce6e",
   "metadata": {},
   "outputs": [],
   "source": [
    "# Finding the bounce action at some nucleation temperature: later tn chosen s.t s3/tn ~ 140.  \n",
    "tn = T\n",
    "\n",
    "def v_eff_tn(phi):\n",
    "    return np.vectorize(v_eff)(phi,tn)\n",
    "\n",
    "\n",
    "#derivative of v_eff at nucleation temperature\n",
    "def dv_eff(phi):\n",
    "    #a = 6*lam + 9/4*g**2 + 3/4*g_p**2 + 3*y_f**2\n",
    "    #b = 3/8*(g**2 + g_p**2)**(3/2) + 6/8*g**3\n",
    "    #c = lam/4*(1 + c6/lam*tn**2)\n",
    "    \n",
    "    return derivative(v_eff_tn, phi, dx = 0.00001, order=7)\n",
    "\n",
    "def f(t,y):    \n",
    "    A = y[0]\n",
    "    B = y[1]\n",
    "    \n",
    "    dA_dt = B\n",
    "    dB_dt = dv_eff(A) - (2/t)*B                                \n",
    "    return np.array([dA_dt, dB_dt])\n"
   ]
  },
  {
   "cell_type": "code",
   "execution_count": 8,
   "id": "a8100c09",
   "metadata": {},
   "outputs": [
    {
     "name": "stdout",
     "output_type": "stream",
     "text": [
      "283.5401916503906\n",
      "0\n",
      "[-0.1  0.1] \n",
      "\n",
      "The solver successfully reached the end of the integration interval.\n",
      "iteration:  1\n",
      "y0 =  212.65514373779297\n",
      "overshoot\n",
      "final value of the solution: -45.608268583404694\n",
      "\n",
      "\n",
      "The solver successfully reached the end of the integration interval.\n",
      "iteration:  2\n",
      "y0 =  177.21261978149414\n",
      "overshoot\n",
      "final value of the solution: -49.27889379289825\n",
      "\n",
      "\n",
      "The solver successfully reached the end of the integration interval.\n",
      "iteration:  3\n",
      "y0 =  159.49135780334473\n",
      "undershoot\n",
      "smallest value of the solution: 11.438715213375243\n",
      "And it ended at 39.276377327925374\n",
      "\n",
      "\n",
      "The solver successfully reached the end of the integration interval.\n",
      "iteration:  4\n",
      "y0 =  168.35198879241943\n",
      "undershoot\n",
      "smallest value of the solution: 6.30855781558342\n",
      "And it ended at 44.51518506750424\n",
      "\n",
      "\n",
      "The solver successfully reached the end of the integration interval.\n",
      "iteration:  5\n",
      "y0 =  172.7823042869568\n",
      "undershoot\n",
      "smallest value of the solution: 2.4588265599846704\n",
      "And it ended at 46.62365381879418\n",
      "\n",
      "\n",
      "The solver successfully reached the end of the integration interval.\n",
      "iteration:  6\n",
      "y0 =  174.99746203422546\n",
      "overshoot\n",
      "final value of the solution: -41.819180903828524\n",
      "\n",
      "\n",
      "The solver successfully reached the end of the integration interval.\n",
      "iteration:  7\n",
      "y0 =  173.88988316059113\n",
      "undershoot\n",
      "smallest value of the solution: 0.8648617837351975\n",
      "And it ended at 32.75307646279839\n",
      "\n",
      "\n",
      "The solver successfully reached the end of the integration interval.\n",
      "iteration:  8\n",
      "y0 =  174.4436725974083\n",
      "overshoot\n",
      "final value of the solution: -32.40125438633639\n",
      "\n",
      "\n",
      "The solver successfully reached the end of the integration interval.\n",
      "iteration:  9\n",
      "y0 =  174.1667778789997\n",
      "overshoot\n",
      "final value of the solution: -55.08557844931312\n",
      "\n",
      "\n",
      "The solver successfully reached the end of the integration interval.\n",
      "iteration:  10\n",
      "y0 =  174.02833051979542\n",
      "undershoot\n",
      "smallest value of the solution: 0.5058084128223584\n",
      "And it ended at 43.402354350624194\n",
      "\n",
      "\n",
      "The solver successfully reached the end of the integration interval.\n",
      "iteration:  11\n",
      "y0 =  174.09755419939756\n",
      "undershoot\n",
      "smallest value of the solution: 0.24186419995613012\n",
      "And it ended at 53.62807769243095\n",
      "\n",
      "\n",
      "The solver successfully reached the end of the integration interval.\n",
      "iteration:  12\n",
      "y0 =  174.13216603919864\n",
      "overshoot\n",
      "final value of the solution: -27.607754224838033\n",
      "\n",
      "\n",
      "The solver successfully reached the end of the integration interval.\n",
      "iteration:  13\n",
      "y0 =  174.1148601192981\n",
      "undershoot\n",
      "smallest value of the solution: 0.14227190637237183\n",
      "And it ended at 36.52731524985834\n",
      "\n",
      "\n",
      "The solver successfully reached the end of the integration interval.\n",
      "Found it! y0= 174.12351307924837\n",
      "174.12351307924837\n"
     ]
    },
    {
     "data": {
      "image/png": "[encoded data removed]",
      "text/plain": [
       "<Figure size 432x288 with 1 Axes>"
      ]
     },
     "metadata": {
      "needs_background": "light"
     },
     "output_type": "display_data"
    }
   ],
   "source": [
    "# Overshoot-undershoot implementation to find the bounce solution. Works in the same way as finding the critical temp\n",
    "# algorithm get's stuck somtetimes due to np.mean not being sensitive enough(?).\n",
    "\n",
    "symm_vac = 0\n",
    "\n",
    "broken_vac = optimize.fmin(v_eff_tn,300, disp = 0)[0]\n",
    "tol = 1e-1\n",
    "\n",
    "print(broken_vac)\n",
    "print(symm_vac)\n",
    "print(np.array([symm_vac - tol, symm_vac + tol]), '\\n')\n",
    "\n",
    "def over_undershoot(init_span, tol, max_i, iter = None):\n",
    "    \n",
    "    if iter is None:\n",
    "        iter = 0\n",
    "        \n",
    "    iter +=1    \n",
    "    \n",
    "    if iter == max_i:\n",
    "        print('arrived at max iterations')\n",
    "        print('final span: ', init_span)\n",
    "        \n",
    "    else:\n",
    "        t_span = np.array([eps, 1])\n",
    "        times  = np.linspace(t_span[0], t_span[1], 100) \n",
    "        init = np.mean(init_span)\n",
    "        y0 = np.array([init, 0])\n",
    "    \n",
    "        soln = solve_ivp(f, t_span, y0, t_eval = times)\n",
    "        print(soln.message)   \n",
    "    \n",
    "    \n",
    "        t = soln.t\n",
    "        phi_b = soln.y[0] \n",
    "    \n",
    "    \n",
    "        if np.abs(np.min(phi_b) - symm_vac) <= tol:\n",
    "            # Here we have the bounce solution. r_max is the bubble radius, smallest value of the solution which satisfies\n",
    "            # the bounce condition. We run the solver again for the span 0 - r_max and that will be what is returned. \n",
    "            index_r = np.where(np.abs(phi_b - symm_vac) <= tol)\n",
    "            r_max = t[np.min(index_r)]\n",
    "            \n",
    "            t_span = np.array([eps, r_max])\n",
    "            times  = np.linspace(t_span[0], t_span[1], 100) \n",
    "            y0 = np.array([init, 0])\n",
    "    \n",
    "            soln = solve_ivp(f, t_span, y0, t_eval = times)\n",
    "            \n",
    "            r = soln.t\n",
    "            phi_b = soln.y[0] \n",
    "            \n",
    "            print('Found it! y0=', init)\n",
    "            return phi_b, r, soln.y[1], init, r_max\n",
    "    \n",
    "        elif phi_b[-1] < symm_vac - tol or phi_b[-1] > init:\n",
    "            #condition for rolling down to the left towards phi = -inf &\n",
    "            #condition for rolling down to the right towards phi = +inf or other local well \n",
    "            #This means we are too far high up in the span and initial condition is to high.\n",
    "        \n",
    "            print('iteration: ', iter)\n",
    "            print('y0 = ', init)\n",
    "            print('overshoot')\n",
    "            print('final value of the solution:', phi_b[-1])\n",
    "            print('\\n')\n",
    "            return over_undershoot([init_span[0], init], tol, max_i, iter)\n",
    "    \n",
    "        else:  #phi_b[-1] > symm_vac + tol and phi_b[-1] < init:\n",
    "            # All other scenarios are undershoot.\n",
    "            # The initial value is to low need to look higher up in the interval for the correct initial value\n",
    "            \n",
    "            print('iteration: ', iter)\n",
    "            print('y0 = ',  init)\n",
    "            print('undershoot')\n",
    "            print('smallest value of the solution:' , np.min(phi_b))\n",
    "            print('And it ended at', phi_b[-1])\n",
    "            print('\\n')\n",
    "            return over_undershoot([init, init_span[1]],tol, max_i, iter)\n",
    "                \n",
    "              \n",
    "init_span = np.array([broken_vac/2, broken_vac])     \n",
    "                                                      \n",
    "phi_b, r, phi_dot, ic, r_max = over_undershoot(init_span, tol, 100)\n",
    "\n",
    "\n",
    "plt.plot(r, phi_b)\n",
    "print(ic)"
   ]
  },
  {
   "cell_type": "code",
   "execution_count": 13,
   "id": "367db0d6",
   "metadata": {},
   "outputs": [
    {
     "name": "stdout",
     "output_type": "stream",
     "text": [
      "Bounce action over temperature s3/tn =  146.9949150986005\n"
     ]
    },
    {
     "data": {
      "image/png": "[encoded data removed]",
      "text/plain": [
       "<Figure size 432x288 with 1 Axes>"
      ]
     },
     "metadata": {
      "needs_background": "light"
     },
     "output_type": "display_data"
    }
   ],
   "source": [
    "plt.plot(r, phi_dot)\n",
    "\n",
    "#Effective potential values of phi = bounce.  \n",
    "v_bounce = np.vectorize(v_eff)(phi_b,tn)\n",
    "\n",
    "\n",
    "#R is the interval over which we want to integrate the functional over to get the bounce action.\n",
    "#L is the euclidean lagrangian density to be integrated.  \n",
    "\n",
    "dphi = phi_dot\n",
    "\n",
    "R = np.linspace(0, r_max, len(phi_b))\n",
    "L = ((1/2)*(phi_dot*2)**2 + v_bounce)\n",
    "\n",
    "\n",
    "s3 = 4*np.pi*np.trapz((R**2)*L, R)\n",
    "\n",
    "\n",
    "print('Bounce action over temperature s3/tn = ', s3/tn)"
   ]
  },
  {
   "cell_type": "code",
   "execution_count": 10,
   "id": "aae9e4a3",
   "metadata": {},
   "outputs": [
    {
     "name": "stdout",
     "output_type": "stream",
     "text": [
      "99424795.51522507\n",
      "81637849.45866537\n",
      "0.7474330459444899\n",
      "0.8211015054016961\n"
     ]
    }
   ],
   "source": [
    "## Calculating the latent heat\n",
    "\n",
    "\n",
    "g_star = 106.95\n",
    "rho_rad = np.pi**2*g_star*(tn**4)/30\n",
    "delta_v = v_eff(symm_vac, tn) - v_eff(broken_vac,tn)\n",
    "delta_dv = dv_eff(symm_vac) - dv_eff(broken_vac)\n",
    "\n",
    "alpha = (1/rho_rad)*(delta_v - (1/4)*delta_dv)\n",
    "\n",
    "print(rho_rad)\n",
    "print(delta_v)\n",
    "print(delta_dv)\n",
    "print(alpha)"
   ]
  },
  {
   "cell_type": "code",
   "execution_count": 11,
   "id": "f9d639c7",
   "metadata": {},
   "outputs": [
    {
     "name": "stdout",
     "output_type": "stream",
     "text": [
      "156.27369462665038\n",
      "9.278779528049881\n"
     ]
    }
   ],
   "source": [
    "#Calculating the invers nucleation time\n",
    "#First up is defining the derivative of the  \n",
    "\n",
    "\n",
    "def dv_dT(phi,T):\n",
    "    a = 6*lam + 9/4*g**2 + 3/4*g_p**2 + 3*y_f**2\n",
    "    b = 3/8*(g**2 + g_p**2)**(3/2) + 6/8*g**3\n",
    "    \n",
    "    \n",
    "    return a*T/12*phi**2 - b/(12*np.pi)*phi**3 + 2*T*phi**4/(Lam**2)\n",
    "\n",
    "dv = np.vectorize(dv_dT)(phi_b,tn)\n",
    "\n",
    "ds3_dT = 4*np.pi*np.trapz(R**2*dv, R)\n",
    "\n",
    "print(ds3_dT)\n",
    "beta = ds3_dT - s3/tn\n",
    "print(beta)"
   ]
  },
  {
   "cell_type": "code",
   "execution_count": 12,
   "id": "4c4b6c50",
   "metadata": {},
   "outputs": [
    {
     "name": "stdout",
     "output_type": "stream",
     "text": [
      "alpha =  0.8211015054016961\n",
      "beta over H = 9.278779528049881\n",
      "nucelation temperature 41\n"
     ]
    }
   ],
   "source": [
    "print('alpha = ', alpha)\n",
    "print('beta over H =', beta)\n",
    "print('nucelation temperature', tn)"
   ]
  }
 ],
 "metadata": {
  "kernelspec": {
   "display_name": "Python 3 (ipykernel)",
   "language": "python",
   "name": "python3"
  },
  "language_info": {
   "codemirror_mode": {
    "name": "ipython",
    "version": 3
   },
   "file_extension": ".py",
   "mimetype": "text/x-python",
   "name": "python",
   "nbconvert_exporter": "python",
   "pygments_lexer": "ipython3",
   "version": "3.9.7"
  }
 },
 "nbformat": 4,
 "nbformat_minor": 5
}
