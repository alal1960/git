{
 "cells": [
  {
   "cell_type": "code",
   "execution_count": 14,
   "id": "2bb65f38",
   "metadata": {},
   "outputs": [],
   "source": [
    "#Gonna figure out how to let the argument of thermal functions take imaginary values (s.t. x**2 becomes negative)\n",
    "import math\n",
    "import numpy as np\n",
    "import matplotlib.pyplot as plt\n",
    "import scipy.integrate as integrate \n",
    "import cmath \n",
    "\n",
    "from cmath import *"
   ]
  },
  {
   "cell_type": "code",
   "execution_count": 56,
   "id": "bcf14d4f",
   "metadata": {},
   "outputs": [],
   "source": [
    "def Jb(x):\n",
    "    \n",
    "    integrand = lambda k: (k**2)*np.log(1 - np.exp(-np.sqrt(k**2 + x**2)))\n",
    "            \n",
    "    if x.imag == 0:\n",
    "        x = np.abs(x)\n",
    "        return integrate.quad(integrand, 0, np.inf)[0]   \n",
    "    \n",
    "    else:\n",
    "        \n",
    "        integrand1 = lambda k: k**2*np.log(2*np.abs(np.sin(np.sqrt(np.abs(x**2) - k**2 )/2)))\n",
    "        \n",
    "        y = np.linspace(0, np.abs(x), 1000)\n",
    "        return ( integrate.quad(integrand1, 0, np.abs(x))[0] +\n",
    "                 integrate.quad(integrand, np.abs(x), np.inf)[0] ) \n",
    "\n",
    "    \n",
    "    \n",
    "## this is the real part of the integrand if m-squared would take on negative values so that for certain k, the \n",
    "## exponential becomes imaginary, as is the case for certain phi values of the higgs mass m_h(phi) and goldstone masses.\n",
    "\n",
    "def integrand(k, x):\n",
    "    return k**2*np.log(2*(1 - np.cos(np.sqrt(-k**2 + x**2))))"
   ]
  },
  {
   "cell_type": "code",
   "execution_count": 101,
   "id": "ee6c2e99",
   "metadata": {},
   "outputs": [],
   "source": [
    "# Parameters and effective masses to be used in the effective potential\n",
    "# constants of higgs tree level potential\n",
    "mu = 1000\n",
    "lam = 0.01\n",
    "c6 = -1/1000000\n",
    "Lam = 246\n",
    "eps = 0.0000001\n",
    "\n",
    "\n",
    "def m_h(phi):                                               \n",
    "    return cmath.sqrt(3*lam*phi**2 - mu**2 - (15/4)*c6*phi**4) + eps\n",
    "\n"
   ]
  },
  {
   "cell_type": "code",
   "execution_count": 80,
   "id": "78467957",
   "metadata": {},
   "outputs": [
    {
     "data": {
      "text/plain": [
       "[<matplotlib.lines.Line2D at 0x17de6a7c400>]"
      ]
     },
     "execution_count": 80,
     "metadata": {},
     "output_type": "execute_result"
    },
    {
     "data": {
      "image/png": "[encoded data removed]",
      "text/plain": [
       "<Figure size 432x288 with 1 Axes>"
      ]
     },
     "metadata": {
      "needs_background": "light"
     },
     "output_type": "display_data"
    }
   ],
   "source": [
    "x = 3000\n",
    "k = np.linspace(0, x- eps, 1000)\n",
    "integ = np.vectorize(integrand)\n",
    "Int = integ(k,x)\n",
    "\n",
    "plt.plot(k, Int)"
   ]
  },
  {
   "cell_type": "code",
   "execution_count": 108,
   "id": "055ceab8",
   "metadata": {},
   "outputs": [
    {
     "name": "stdout",
     "output_type": "stream",
     "text": [
      "3749.4000000001\n"
     ]
    },
    {
     "data": {
      "text/plain": [
       "[<matplotlib.lines.Line2D at 0x16b2e991a00>]"
      ]
     },
     "execution_count": 108,
     "metadata": {},
     "output_type": "execute_result"
    },
    {
     "data": {
      "image/png": "[encoded data removed]",
      "text/plain": [
       "<Figure size 432x288 with 1 Axes>"
      ]
     },
     "metadata": {
      "needs_background": "light"
     },
     "output_type": "display_data"
    }
   ],
   "source": [
    "# High T expansion of thermal function since integrals seems very cumbersome won't work\n",
    "\n",
    "gamma = 0.577215661901532\n",
    "\n",
    "\n",
    "def Jb_high(y):\n",
    "    \n",
    "    return y**2/24 - y**3/12*np.pi - y**4/(2*(4*np.pi**4))*(cmath.log((y*np.exp(gamma)/4*np.pi) - 3/4))\n",
    "    \n",
    "def Jf_high(m,T):\n",
    "    \n",
    "    return -(m**2)*(T**2)/48 - m**4/2*((4*np.pi)**2)*(np.log(m*np.exp(gamma)/np.pi*T) - 1/2)\n",
    "\n",
    "T = 100000\n",
    "\n",
    "phi = np.linspace(0,1000,40)\n",
    "mh = np.vectorize(m_h)(phi)\n",
    "print(np.max(np.abs(mh/T)))\n",
    "\n",
    "jb = np.vectorize(Jb_high)(mh/T)\n",
    "\n",
    "plt.plot(phi, jb.real)\n"
   ]
  },
  {
   "cell_type": "code",
   "execution_count": 140,
   "id": "fb5bb654",
   "metadata": {},
   "outputs": [],
   "source": [
    "# Parameters and effective masses to be used in the effective potential\n",
    "# constants of higgs tree level potential\n",
    "mu = 3000\n",
    "lam = 0.01\n",
    "c6 = -1/10000\n",
    "Lam = 246\n",
    "\n",
    "#yukawa coupling constant of fermion f \n",
    "y_f = 0.99                                          #(for the top quark)\n",
    "\n",
    "#EW - sector coupling constants g (SU(2)_L) and g_p (U(1)_Y) \n",
    "g = 0.65\n",
    "g_p = 0.36\n",
    "eps = 0.00001\n",
    "\n",
    "\n",
    "# Effective mass of fermion f acquired through yukawa coupling w/ the Higgs\n",
    "def m_f(phi):\n",
    "    return y_f**2/2*phi**2 + eps\n",
    "\n",
    "# W and Z boson masses\n",
    "def m_W(phi):\n",
    "    return (g**2/4)*phi**2 + eps\n",
    "\n",
    "def m_Z(phi):\n",
    "    return (g**2 + g_p**2)*phi**2/4 + eps\n",
    "\n",
    "# Higgs and Goldstone masses\n",
    "def m_h(phi):                                               \n",
    "    return 3*lam*phi**2 - mu**2 - (15/4)*c6*phi**4 + eps\n",
    "\n",
    "#m_h 0 at h_min = (2/5)*(lam/c6)*(1 - np.sqrt(1-5/3*c6*(mu**2)/lam**2))\n",
    "\n",
    "def m_g(phi):\n",
    "    return lam*phi**2 - mu**2 - (3/4)*c6*phi**4 + eps\n"
   ]
  },
  {
   "cell_type": "code",
   "execution_count": 139,
   "id": "a0c2932d",
   "metadata": {},
   "outputs": [
    {
     "name": "stderr",
     "output_type": "stream",
     "text": [
      "C:\\Users\\alana\\AppData\\Local\\Temp/ipykernel_9236/4170379552.py:9: RuntimeWarning: overflow encountered in long_scalars\n",
      "  + 6*m_W(phi)**2/(64*np.pi**2)*(cmath.log(m_W(phi)/Lam) - 5/6) + (T**4)*6*Jb_high(cmath.sqrt(m_W(phi))/T)\n"
     ]
    },
    {
     "name": "stdout",
     "output_type": "stream",
     "text": [
      "-346343.5012621117\n"
     ]
    },
    {
     "data": {
      "image/png": "[encoded data removed]",
      "text/plain": [
       "<Figure size 432x288 with 1 Axes>"
      ]
     },
     "metadata": {
      "needs_background": "light"
     },
     "output_type": "display_data"
    }
   ],
   "source": [
    "Lam = 246     # regulator/Cutoff(?)\n",
    "\n",
    "#1-loop effective potential\n",
    "def v_eff(phi,T):\n",
    "    return np.real(-(mu**2)/2*phi**2 + (lam/4)*phi**4 - (c6/8)*phi**6\n",
    "            + m_h(phi)**2/(64*np.pi**2)*(cmath.log(m_h(phi)/Lam) - 3/2) + (T**4)*Jb_high(cmath.sqrt(m_h(phi))/T)\n",
    "            + 3*m_g(phi)**2/(64*np.pi**2)*(cmath.log(m_g(phi)/Lam) - 3/2) + (T**4)*3*Jb_high(cmath.sqrt(m_g(phi))/T)\n",
    "            + 3*m_Z(phi)**2/(64*np.pi**2)*(cmath.log(m_Z(phi)/Lam) - 5/6) + (T**4)*3*Jb_high(cmath.sqrt(m_Z(phi))/T)\n",
    "            + 6*m_W(phi)**2/(64*np.pi**2)*(cmath.log(m_W(phi)/Lam) - 5/6) + (T**4)*6*Jb_high(cmath.sqrt(m_W(phi))/T)    \n",
    "            - 12*m_f(phi)**2/(64*np.pi**2)*(cmath.log(m_f(phi)/Lam) - 3/2) - 12*Jf_high(cmath.sqrt(m_f(phi)),T)\n",
    "           )\n",
    "\n",
    "vecv_eff = np.vectorize(v_eff)\n",
    "\n",
    "\n",
    "phi = np.linspace(-50,50,1000)\n",
    "T = 5000\n",
    "arrv_eff = vecv_eff(phi,T) - v_eff(0,T)\n",
    "\n",
    "\n",
    "plt.plot(phi, arrv_eff)\n",
    "plt.xlabel('$\\phi$')\n",
    "plt.ylabel('$V_{eff}(\\phi)$')\n",
    "plt.title('1-loop effective potential at T = %1.0f'  % T)\n",
    "\n",
    "#Tree level min\n",
    "phi_min = ((2*lam)/(3*c6))*(1 - np.sqrt(1 - (3*c6*mu**2)/(lam**2)))\n",
    "print(phi_min)"
   ]
  }
 ],
 "metadata": {
  "kernelspec": {
   "display_name": "Python 3 (ipykernel)",
   "language": "python",
   "name": "python3"
  },
  "language_info": {
   "codemirror_mode": {
    "name": "ipython",
    "version": 3
   },
   "file_extension": ".py",
   "mimetype": "text/x-python",
   "name": "python",
   "nbconvert_exporter": "python",
   "pygments_lexer": "ipython3",
   "version": "3.9.7"
  }
 },
 "nbformat": 4,
 "nbformat_minor": 5
}
