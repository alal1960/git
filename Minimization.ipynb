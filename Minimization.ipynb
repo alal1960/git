{
 "cells": [
  {
   "cell_type": "code",
   "execution_count": 1,
   "id": "62c76ee9",
   "metadata": {},
   "outputs": [],
   "source": [
    "import numpy as np\n",
    "import cmath\n",
    "import matplotlib.pyplot as plt\n",
    "from scipy.misc import derivative\n",
    "from scipy import optimize\n",
    "\n",
    "from scipy.optimize import Bounds\n",
    "from scipy.optimize import NonlinearConstraint\n",
    "from scipy.optimize import fsolve\n",
    "import time\n",
    "\n",
    "import matplotlib.pyplot as plt\n",
    "import seaborn as sns\n",
    "import pandas as pd\n",
    "\n",
    "sns.set_style('whitegrid')\n",
    "\n",
    "plt.rc('axes', titlesize=16)     # fontsize of the axes title\n",
    "plt.rc('axes', labelsize=14)     # fontsize of the x and y labels\n",
    "plt.rc('xtick', labelsize=13)    # fontsize of the tick labels\n",
    "plt.rc('ytick', labelsize=13)    # fontsize of the tick labels\n",
    "plt.rc('legend', fontsize=13)    # legend fontsize\n",
    "plt.rc('font', size=13)          # controls default text sizes\n"
   ]
  },
  {
   "cell_type": "code",
   "execution_count": 2,
   "id": "bb9523b3",
   "metadata": {},
   "outputs": [],
   "source": [
    "#yukawa coupling constant of fermion f \n",
    "y_f = 0.99                                          #(for the top quark)\n",
    "\n",
    "#EW - sector coupling constants g (SU(2)_L) and g_p (U(1)_Y) \n",
    "g = 0.65\n",
    "g_p = 0.36\n",
    "eps = 0.00001\n",
    "\n",
    "# Effective mass of fermion f acquired through yukawa coupling w/ the Higgs\n",
    "def m_f(phi):\n",
    "    return y_f**2/2*phi**2 + eps\n",
    "\n",
    "# W and Z boson masses\n",
    "def m_W(phi):\n",
    "    return (g**2/4)*phi**2 + eps\n",
    "\n",
    "def m_Z(phi):\n",
    "    return (g**2 + g_p**2)*phi**2/4 + eps\n",
    "\n",
    "# Higgs and Goldstone masses\n",
    "def m_h(phi, mu, lam, Lam):                                               \n",
    "    return -3*lam*phi**2 + mu + (15/4)*phi**4/Lam**2 + eps\n",
    "\n",
    "#m_h 0 at h_min = (2/5)*(lam/c6)*(1 - np.sqrt(1-5/3*c6*(mu**2)/lam**2))\n",
    "\n",
    "def m_g(phi, mu, lam, Lam):\n",
    "    return -lam*phi**2 + mu + (3/4)*phi**4/Lam**2 + eps"
   ]
  },
  {
   "cell_type": "code",
   "execution_count": 3,
   "id": "a8c63a70",
   "metadata": {},
   "outputs": [],
   "source": [
    "# different parts of the 1loop effective potential calculated in the ms-scheme. For the first order correction,\n",
    "# separating the contribution coming from gauge bosons and other particles. obs! input for the first order corrections are \n",
    "# the squared masses, i.e. m**2 and not m.  \n",
    "\n",
    "def v_tree(phi, mu, lam, Lam):\n",
    "    return mu/2*phi**2 - lam/4*phi**4 + phi**6/(8*Lam**2)\n",
    "\n",
    "def v_loop_g(m):\n",
    "    scale = 91\n",
    "    return m**2/(64*np.pi**2)*(cmath.log(m/scale) - 5/6)\n",
    "\n",
    "def v_loop(m):\n",
    "    scale = 91\n",
    "    return m**2/(64*np.pi**2)*(cmath.log(m/scale) - 3/2)\n",
    "\n",
    "\n",
    "def v_1(phi, mu, lam, Lam):\n",
    "    return np.real(v_loop(m_h(phi, mu, lam, Lam)) + 3*v_loop(m_g(phi, mu, lam, Lam)) - 12*v_loop(m_f(phi))\n",
    "             + 3*v_loop_g(m_Z(phi)) + 6*v_loop_g(m_W(phi)))\n",
    "\n",
    "def v_eff(phi, mu, lam, Lam):\n",
    "    return np.real(v_tree(phi, mu, lam, Lam) + v_1(phi, mu, lam, Lam))"
   ]
  },
  {
   "cell_type": "code",
   "execution_count": 4,
   "id": "1d8da157",
   "metadata": {},
   "outputs": [],
   "source": [
    "# defining the minimum and second derivative (at the minimum) of the 1-loop potential as a function of the parameter values \n",
    "\n",
    "\n",
    "def phi_min(mu,lam,Lam):\n",
    "    phi_0 = np.sqrt((2*lam*Lam**2)/3*(1 + np.sqrt(1 - 3*mu**2/(lam*Lam)**2)))   \n",
    "    phi_1 = -derivative(v_1, phi_0, args = (mu,lam,Lam), order=5, dx=0.001)/m_h(phi_0, mu,lam,Lam)\n",
    "    return  phi_0 + phi_1 - 246\n",
    "\n",
    "\n",
    "#Second derivative of the effective potential at it's minimum\n",
    "def d2_v(mu,lam,Lam):\n",
    "    phi = phi_min(mu,lam,Lam)\n",
    "    return derivative(v_eff, phi, args = (mu,lam,Lam), n=2, dx=0.01)-215**2       \n",
    "\n",
    "# function we want to minimimize wrt to parameters mu, lam, Lam to give correct effective potential\n",
    "def opt(x):\n",
    "    mu, lam, Lam = x\n",
    "    v = 246\n",
    "    mh = 125**2\n",
    "    #return [(phi_min(mu,lam,Lam) - v)**2 + (d2_v(mu,lam,Lam) - mh)**2,\n",
    "    #        (phi_min(mu,lam,Lam) - v)**2 + (d2_v(mu,lam,Lam) - mh)**2,\n",
    "    #        (phi_min(mu,lam,Lam) - v)**2 + (d2_v(mu,lam,Lam) - mh)**2]\n",
    "    \n",
    "    return [phi_min(mu,lam,Lam) + d2_v(mu,lam,Lam),\n",
    "            phi_min(mu,lam,Lam) + d2_v(mu,lam,Lam),\n",
    "            phi_min(mu,lam,Lam) + d2_v(mu,lam,Lam)]"
   ]
  },
  {
   "cell_type": "code",
   "execution_count": 5,
   "id": "15ffb610",
   "metadata": {},
   "outputs": [],
   "source": [
    "mu0 = np.linspace(100, 3000, num = 20)\n",
    "lam0 = np.linspace(0.0001, 1, num = 20)\n",
    "Lam0 = np.linspace(500,2000, num = 20)"
   ]
  },
  {
   "cell_type": "code",
   "execution_count": 6,
   "id": "8151fcc8",
   "metadata": {},
   "outputs": [
    {
     "name": "stderr",
     "output_type": "stream",
     "text": [
      "C:\\Users\\alana\\AppData\\Local\\Temp/ipykernel_7584/3731324559.py:5: RuntimeWarning: invalid value encountered in sqrt\n",
      "  phi_0 = np.sqrt((2*lam*Lam**2)/3*(1 + np.sqrt(1 - 3*mu**2/(lam*Lam)**2)))\n",
      "C:\\Users\\alana\\anaconda3\\lib\\site-packages\\scipy\\optimize\\minpack.py:175: RuntimeWarning: The iteration is not making good progress, as measured by the \n",
      "  improvement from the last ten iterations.\n",
      "  warnings.warn(msg, RuntimeWarning)\n",
      "C:\\Users\\alana\\anaconda3\\lib\\site-packages\\scipy\\optimize\\minpack.py:175: RuntimeWarning: The iteration is not making good progress, as measured by the \n",
      "  improvement from the last five Jacobian evaluations.\n",
      "  warnings.warn(msg, RuntimeWarning)\n"
     ]
    },
    {
     "ename": "KeyboardInterrupt",
     "evalue": "",
     "output_type": "error",
     "traceback": [
      "\u001b[1;31m---------------------------------------------------------------------------\u001b[0m",
      "\u001b[1;31mKeyboardInterrupt\u001b[0m                         Traceback (most recent call last)",
      "\u001b[1;32m~\\AppData\\Local\\Temp/ipykernel_7584/3781976697.py\u001b[0m in \u001b[0;36m<module>\u001b[1;34m\u001b[0m\n\u001b[0;32m      6\u001b[0m         \u001b[1;32mfor\u001b[0m \u001b[0mLam\u001b[0m \u001b[1;32min\u001b[0m \u001b[0mLam0\u001b[0m\u001b[1;33m:\u001b[0m\u001b[1;33m\u001b[0m\u001b[1;33m\u001b[0m\u001b[0m\n\u001b[0;32m      7\u001b[0m             \u001b[0mx0\u001b[0m \u001b[1;33m=\u001b[0m \u001b[1;33m[\u001b[0m\u001b[0mmu\u001b[0m\u001b[1;33m,\u001b[0m \u001b[0mlam\u001b[0m\u001b[1;33m,\u001b[0m \u001b[0mLam\u001b[0m\u001b[1;33m]\u001b[0m\u001b[1;33m\u001b[0m\u001b[1;33m\u001b[0m\u001b[0m\n\u001b[1;32m----> 8\u001b[1;33m             \u001b[0mroot\u001b[0m \u001b[1;33m=\u001b[0m \u001b[0mfsolve\u001b[0m\u001b[1;33m(\u001b[0m\u001b[0mopt\u001b[0m\u001b[1;33m,\u001b[0m\u001b[0mx0\u001b[0m\u001b[1;33m)\u001b[0m\u001b[1;33m\u001b[0m\u001b[1;33m\u001b[0m\u001b[0m\n\u001b[0m\u001b[0;32m      9\u001b[0m             \u001b[0mm\u001b[0m\u001b[1;33m,\u001b[0m \u001b[0ml\u001b[0m\u001b[1;33m,\u001b[0m \u001b[0mL\u001b[0m \u001b[1;33m=\u001b[0m \u001b[0mroot\u001b[0m\u001b[1;33m\u001b[0m\u001b[1;33m\u001b[0m\u001b[0m\n\u001b[0;32m     10\u001b[0m             \u001b[1;32mif\u001b[0m \u001b[0ml\u001b[0m \u001b[1;33m>\u001b[0m \u001b[1;36m0\u001b[0m \u001b[1;32mand\u001b[0m \u001b[0mL\u001b[0m \u001b[1;33m>\u001b[0m \u001b[1;36m500\u001b[0m\u001b[1;33m:\u001b[0m\u001b[1;33m\u001b[0m\u001b[1;33m\u001b[0m\u001b[0m\n",
      "\u001b[1;32m~\\anaconda3\\lib\\site-packages\\scipy\\optimize\\minpack.py\u001b[0m in \u001b[0;36mfsolve\u001b[1;34m(func, x0, args, fprime, full_output, col_deriv, xtol, maxfev, band, epsfcn, factor, diag)\u001b[0m\n\u001b[0;32m    158\u001b[0m                'diag': diag}\n\u001b[0;32m    159\u001b[0m \u001b[1;33m\u001b[0m\u001b[0m\n\u001b[1;32m--> 160\u001b[1;33m     \u001b[0mres\u001b[0m \u001b[1;33m=\u001b[0m \u001b[0m_root_hybr\u001b[0m\u001b[1;33m(\u001b[0m\u001b[0mfunc\u001b[0m\u001b[1;33m,\u001b[0m \u001b[0mx0\u001b[0m\u001b[1;33m,\u001b[0m \u001b[0margs\u001b[0m\u001b[1;33m,\u001b[0m \u001b[0mjac\u001b[0m\u001b[1;33m=\u001b[0m\u001b[0mfprime\u001b[0m\u001b[1;33m,\u001b[0m \u001b[1;33m**\u001b[0m\u001b[0moptions\u001b[0m\u001b[1;33m)\u001b[0m\u001b[1;33m\u001b[0m\u001b[1;33m\u001b[0m\u001b[0m\n\u001b[0m\u001b[0;32m    161\u001b[0m     \u001b[1;32mif\u001b[0m \u001b[0mfull_output\u001b[0m\u001b[1;33m:\u001b[0m\u001b[1;33m\u001b[0m\u001b[1;33m\u001b[0m\u001b[0m\n\u001b[0;32m    162\u001b[0m         \u001b[0mx\u001b[0m \u001b[1;33m=\u001b[0m \u001b[0mres\u001b[0m\u001b[1;33m[\u001b[0m\u001b[1;34m'x'\u001b[0m\u001b[1;33m]\u001b[0m\u001b[1;33m\u001b[0m\u001b[1;33m\u001b[0m\u001b[0m\n",
      "\u001b[1;32m~\\anaconda3\\lib\\site-packages\\scipy\\optimize\\minpack.py\u001b[0m in \u001b[0;36m_root_hybr\u001b[1;34m(func, x0, args, jac, col_deriv, xtol, maxfev, band, eps, factor, diag, **unknown_options)\u001b[0m\n\u001b[0;32m    235\u001b[0m         \u001b[1;32mif\u001b[0m \u001b[0mmaxfev\u001b[0m \u001b[1;33m==\u001b[0m \u001b[1;36m0\u001b[0m\u001b[1;33m:\u001b[0m\u001b[1;33m\u001b[0m\u001b[1;33m\u001b[0m\u001b[0m\n\u001b[0;32m    236\u001b[0m             \u001b[0mmaxfev\u001b[0m \u001b[1;33m=\u001b[0m \u001b[1;36m200\u001b[0m \u001b[1;33m*\u001b[0m \u001b[1;33m(\u001b[0m\u001b[0mn\u001b[0m \u001b[1;33m+\u001b[0m \u001b[1;36m1\u001b[0m\u001b[1;33m)\u001b[0m\u001b[1;33m\u001b[0m\u001b[1;33m\u001b[0m\u001b[0m\n\u001b[1;32m--> 237\u001b[1;33m         retval = _minpack._hybrd(func, x0, args, 1, xtol, maxfev,\n\u001b[0m\u001b[0;32m    238\u001b[0m                                  ml, mu, epsfcn, factor, diag)\n\u001b[0;32m    239\u001b[0m     \u001b[1;32melse\u001b[0m\u001b[1;33m:\u001b[0m\u001b[1;33m\u001b[0m\u001b[1;33m\u001b[0m\u001b[0m\n",
      "\u001b[1;32m~\\AppData\\Local\\Temp/ipykernel_7584/3731324559.py\u001b[0m in \u001b[0;36mopt\u001b[1;34m(x)\u001b[0m\n\u001b[0;32m     22\u001b[0m     \u001b[1;31m#        (phi_min(mu,lam,Lam) - v)**2 + (d2_v(mu,lam,Lam) - mh)**2]\u001b[0m\u001b[1;33m\u001b[0m\u001b[1;33m\u001b[0m\u001b[0m\n\u001b[0;32m     23\u001b[0m \u001b[1;33m\u001b[0m\u001b[0m\n\u001b[1;32m---> 24\u001b[1;33m     return [phi_min(mu,lam,Lam) + d2_v(mu,lam,Lam),\n\u001b[0m\u001b[0;32m     25\u001b[0m             \u001b[0mphi_min\u001b[0m\u001b[1;33m(\u001b[0m\u001b[0mmu\u001b[0m\u001b[1;33m,\u001b[0m\u001b[0mlam\u001b[0m\u001b[1;33m,\u001b[0m\u001b[0mLam\u001b[0m\u001b[1;33m)\u001b[0m \u001b[1;33m+\u001b[0m \u001b[0md2_v\u001b[0m\u001b[1;33m(\u001b[0m\u001b[0mmu\u001b[0m\u001b[1;33m,\u001b[0m\u001b[0mlam\u001b[0m\u001b[1;33m,\u001b[0m\u001b[0mLam\u001b[0m\u001b[1;33m)\u001b[0m\u001b[1;33m,\u001b[0m\u001b[1;33m\u001b[0m\u001b[1;33m\u001b[0m\u001b[0m\n\u001b[0;32m     26\u001b[0m             phi_min(mu,lam,Lam) + d2_v(mu,lam,Lam)]\n",
      "\u001b[1;32m~\\AppData\\Local\\Temp/ipykernel_7584/3731324559.py\u001b[0m in \u001b[0;36mphi_min\u001b[1;34m(mu, lam, Lam)\u001b[0m\n\u001b[0;32m      4\u001b[0m \u001b[1;32mdef\u001b[0m \u001b[0mphi_min\u001b[0m\u001b[1;33m(\u001b[0m\u001b[0mmu\u001b[0m\u001b[1;33m,\u001b[0m\u001b[0mlam\u001b[0m\u001b[1;33m,\u001b[0m\u001b[0mLam\u001b[0m\u001b[1;33m)\u001b[0m\u001b[1;33m:\u001b[0m\u001b[1;33m\u001b[0m\u001b[1;33m\u001b[0m\u001b[0m\n\u001b[0;32m      5\u001b[0m     \u001b[0mphi_0\u001b[0m \u001b[1;33m=\u001b[0m \u001b[0mnp\u001b[0m\u001b[1;33m.\u001b[0m\u001b[0msqrt\u001b[0m\u001b[1;33m(\u001b[0m\u001b[1;33m(\u001b[0m\u001b[1;36m2\u001b[0m\u001b[1;33m*\u001b[0m\u001b[0mlam\u001b[0m\u001b[1;33m*\u001b[0m\u001b[0mLam\u001b[0m\u001b[1;33m**\u001b[0m\u001b[1;36m2\u001b[0m\u001b[1;33m)\u001b[0m\u001b[1;33m/\u001b[0m\u001b[1;36m3\u001b[0m\u001b[1;33m*\u001b[0m\u001b[1;33m(\u001b[0m\u001b[1;36m1\u001b[0m \u001b[1;33m+\u001b[0m \u001b[0mnp\u001b[0m\u001b[1;33m.\u001b[0m\u001b[0msqrt\u001b[0m\u001b[1;33m(\u001b[0m\u001b[1;36m1\u001b[0m \u001b[1;33m-\u001b[0m \u001b[1;36m3\u001b[0m\u001b[1;33m*\u001b[0m\u001b[0mmu\u001b[0m\u001b[1;33m**\u001b[0m\u001b[1;36m2\u001b[0m\u001b[1;33m/\u001b[0m\u001b[1;33m(\u001b[0m\u001b[0mlam\u001b[0m\u001b[1;33m*\u001b[0m\u001b[0mLam\u001b[0m\u001b[1;33m)\u001b[0m\u001b[1;33m**\u001b[0m\u001b[1;36m2\u001b[0m\u001b[1;33m)\u001b[0m\u001b[1;33m)\u001b[0m\u001b[1;33m)\u001b[0m\u001b[1;33m\u001b[0m\u001b[1;33m\u001b[0m\u001b[0m\n\u001b[1;32m----> 6\u001b[1;33m     \u001b[0mphi_1\u001b[0m \u001b[1;33m=\u001b[0m \u001b[1;33m-\u001b[0m\u001b[0mderivative\u001b[0m\u001b[1;33m(\u001b[0m\u001b[0mv_1\u001b[0m\u001b[1;33m,\u001b[0m \u001b[0mphi_0\u001b[0m\u001b[1;33m,\u001b[0m \u001b[0margs\u001b[0m \u001b[1;33m=\u001b[0m \u001b[1;33m(\u001b[0m\u001b[0mmu\u001b[0m\u001b[1;33m,\u001b[0m\u001b[0mlam\u001b[0m\u001b[1;33m,\u001b[0m\u001b[0mLam\u001b[0m\u001b[1;33m)\u001b[0m\u001b[1;33m,\u001b[0m \u001b[0morder\u001b[0m\u001b[1;33m=\u001b[0m\u001b[1;36m5\u001b[0m\u001b[1;33m,\u001b[0m \u001b[0mdx\u001b[0m\u001b[1;33m=\u001b[0m\u001b[1;36m0.001\u001b[0m\u001b[1;33m)\u001b[0m\u001b[1;33m/\u001b[0m\u001b[0mm_h\u001b[0m\u001b[1;33m(\u001b[0m\u001b[0mphi_0\u001b[0m\u001b[1;33m,\u001b[0m \u001b[0mmu\u001b[0m\u001b[1;33m,\u001b[0m\u001b[0mlam\u001b[0m\u001b[1;33m,\u001b[0m\u001b[0mLam\u001b[0m\u001b[1;33m)\u001b[0m\u001b[1;33m\u001b[0m\u001b[1;33m\u001b[0m\u001b[0m\n\u001b[0m\u001b[0;32m      7\u001b[0m     \u001b[1;32mreturn\u001b[0m  \u001b[0mphi_0\u001b[0m \u001b[1;33m+\u001b[0m \u001b[0mphi_1\u001b[0m \u001b[1;33m-\u001b[0m \u001b[1;36m246\u001b[0m\u001b[1;33m\u001b[0m\u001b[1;33m\u001b[0m\u001b[0m\n\u001b[0;32m      8\u001b[0m \u001b[1;33m\u001b[0m\u001b[0m\n",
      "\u001b[1;32m~\\anaconda3\\lib\\site-packages\\scipy\\misc\\common.py\u001b[0m in \u001b[0;36mderivative\u001b[1;34m(func, x0, dx, n, args, order)\u001b[0m\n\u001b[0;32m    119\u001b[0m             \u001b[0mweights\u001b[0m \u001b[1;33m=\u001b[0m \u001b[0marray\u001b[0m\u001b[1;33m(\u001b[0m\u001b[1;33m[\u001b[0m\u001b[1;33m-\u001b[0m\u001b[1;36m1\u001b[0m\u001b[1;33m,\u001b[0m\u001b[1;36m0\u001b[0m\u001b[1;33m,\u001b[0m\u001b[1;36m1\u001b[0m\u001b[1;33m]\u001b[0m\u001b[1;33m)\u001b[0m\u001b[1;33m/\u001b[0m\u001b[1;36m2.0\u001b[0m\u001b[1;33m\u001b[0m\u001b[1;33m\u001b[0m\u001b[0m\n\u001b[0;32m    120\u001b[0m         \u001b[1;32melif\u001b[0m \u001b[0morder\u001b[0m \u001b[1;33m==\u001b[0m \u001b[1;36m5\u001b[0m\u001b[1;33m:\u001b[0m\u001b[1;33m\u001b[0m\u001b[1;33m\u001b[0m\u001b[0m\n\u001b[1;32m--> 121\u001b[1;33m             \u001b[0mweights\u001b[0m \u001b[1;33m=\u001b[0m \u001b[0marray\u001b[0m\u001b[1;33m(\u001b[0m\u001b[1;33m[\u001b[0m\u001b[1;36m1\u001b[0m\u001b[1;33m,\u001b[0m\u001b[1;33m-\u001b[0m\u001b[1;36m8\u001b[0m\u001b[1;33m,\u001b[0m\u001b[1;36m0\u001b[0m\u001b[1;33m,\u001b[0m\u001b[1;36m8\u001b[0m\u001b[1;33m,\u001b[0m\u001b[1;33m-\u001b[0m\u001b[1;36m1\u001b[0m\u001b[1;33m]\u001b[0m\u001b[1;33m)\u001b[0m\u001b[1;33m/\u001b[0m\u001b[1;36m12.0\u001b[0m\u001b[1;33m\u001b[0m\u001b[1;33m\u001b[0m\u001b[0m\n\u001b[0m\u001b[0;32m    122\u001b[0m         \u001b[1;32melif\u001b[0m \u001b[0morder\u001b[0m \u001b[1;33m==\u001b[0m \u001b[1;36m7\u001b[0m\u001b[1;33m:\u001b[0m\u001b[1;33m\u001b[0m\u001b[1;33m\u001b[0m\u001b[0m\n\u001b[0;32m    123\u001b[0m             \u001b[0mweights\u001b[0m \u001b[1;33m=\u001b[0m \u001b[0marray\u001b[0m\u001b[1;33m(\u001b[0m\u001b[1;33m[\u001b[0m\u001b[1;33m-\u001b[0m\u001b[1;36m1\u001b[0m\u001b[1;33m,\u001b[0m\u001b[1;36m9\u001b[0m\u001b[1;33m,\u001b[0m\u001b[1;33m-\u001b[0m\u001b[1;36m45\u001b[0m\u001b[1;33m,\u001b[0m\u001b[1;36m0\u001b[0m\u001b[1;33m,\u001b[0m\u001b[1;36m45\u001b[0m\u001b[1;33m,\u001b[0m\u001b[1;33m-\u001b[0m\u001b[1;36m9\u001b[0m\u001b[1;33m,\u001b[0m\u001b[1;36m1\u001b[0m\u001b[1;33m]\u001b[0m\u001b[1;33m)\u001b[0m\u001b[1;33m/\u001b[0m\u001b[1;36m60.0\u001b[0m\u001b[1;33m\u001b[0m\u001b[1;33m\u001b[0m\u001b[0m\n",
      "\u001b[1;31mKeyboardInterrupt\u001b[0m: "
     ]
    }
   ],
   "source": [
    "parameters = []\n",
    "\n",
    "t = time.time()\n",
    "for mu in mu0:\n",
    "    for lam in lam0:\n",
    "        for Lam in Lam0:\n",
    "            x0 = [mu, lam, Lam]\n",
    "            root = fsolve(opt,x0)\n",
    "            m, l, L = root\n",
    "            if l > 0 and L > 500:\n",
    "                if np.abs(phi_min(m,l,L)) <= 10 and np.abs(d2_v(m,l,L)) <= 300:\n",
    "                    print(x0)\n",
    "                    print(root, '\\n')\n",
    "                    parameters.append(root)\n",
    "                    \n",
    "print('elapsed time', time.time()-t)            \n",
    "\n",
    "parameters.sort(key=lambda row: (row[2]), reverse = False)\n",
    "\n",
    "parameters_file = open('param35.txt', 'w')\n",
    "\n",
    "for row in parameters:\n",
    "    np.savetxt(parameters_file, row) \n",
    "    \n",
    "parameters_file.close()"
   ]
  },
  {
   "cell_type": "code",
   "execution_count": 21,
   "id": "605b65e6",
   "metadata": {},
   "outputs": [
    {
     "data": {
      "image/png": "[encoded data removed]",
      "text/plain": [
       "<Figure size 504x360 with 2 Axes>"
      ]
     },
     "metadata": {},
     "output_type": "display_data"
    }
   ],
   "source": [
    "og_array = np.loadtxt('param34.txt').reshape(-1,3)\n",
    "\n",
    "mu, lam, Lam = og_array[:,0], og_array[:,1], og_array[:,2]\n",
    "\n",
    "plt.figure(figsize=(7,5), tight_layout=True)\n",
    "plt.scatter(lam, mu**2, c=1/(Lam**2), s = 100)\n",
    "plt.xlabel('$\\lambda$')\n",
    "plt.ylabel('$\\mu^2 \\: GeV^2$')\n",
    "plt.colorbar().set_label('$C_6$ $GeV^{-2}$')\n",
    "\n",
    "#plt.savefig('param3.eps')"
   ]
  },
  {
   "cell_type": "code",
   "execution_count": null,
   "id": "e184d125",
   "metadata": {},
   "outputs": [],
   "source": [
    "#Random tensting if \n",
    "\n",
    "phi = np.linspace(0, 300,100)\n",
    "\n",
    "mu, lam, Lam = og_array[5]\n",
    "\n",
    "plt.plot(phi/246, np.vectorize(v_eff)(phi, mu, lam, Lam)/246**4)\n",
    "\n",
    "print(mu, lam, Lam)\n",
    "print(np.sqrt(d2_v(mu,lam,Lam)))\n",
    "print(phi_min(mu,lam,Lam))\n",
    "print(optimize.fmin(v_eff,300, args=(mu,lam,Lam), disp=0)[0])"
   ]
  }
 ],
 "metadata": {
  "kernelspec": {
   "display_name": "Python 3 (ipykernel)",
   "language": "python",
   "name": "python3"
  },
  "language_info": {
   "codemirror_mode": {
    "name": "ipython",
    "version": 3
   },
   "file_extension": ".py",
   "mimetype": "text/x-python",
   "name": "python",
   "nbconvert_exporter": "python",
   "pygments_lexer": "ipython3",
   "version": "3.9.7"
  }
 },
 "nbformat": 4,
 "nbformat_minor": 5
}
