{
 "cells": [
  {
   "cell_type": "code",
   "execution_count": 1,
   "id": "3b4d99fa",
   "metadata": {},
   "outputs": [],
   "source": [
    "#Script for finding correct parameter values that gives back the Higgs mass at zero temperature.\n",
    "#Begin by defining an effective potential w/o radiative corrections. \n",
    "\n",
    "import numpy as np\n",
    "import cmath\n",
    "import matplotlib.pyplot as plt\n",
    "from scipy.misc import derivative\n",
    "from scipy import optimize"
   ]
  },
  {
   "cell_type": "code",
   "execution_count": 2,
   "id": "0dfebea1",
   "metadata": {},
   "outputs": [],
   "source": [
    "#yukawa coupling constant of fermion f \n",
    "y_f = 0.99                                          #(for the top quark)\n",
    "\n",
    "#EW - sector coupling constants g (SU(2)_L) and g_p (U(1)_Y) \n",
    "g = 0.65\n",
    "g_p = 0.36\n",
    "eps = 0.00001\n",
    "\n",
    "# Effective mass of fermion f acquired through yukawa coupling w/ the Higgs\n",
    "def m_f(phi):\n",
    "    return y_f**2/2*phi**2 + eps\n",
    "\n",
    "# W and Z boson masses\n",
    "def m_W(phi):\n",
    "    return (g**2/4)*phi**2 + eps\n",
    "\n",
    "def m_Z(phi):\n",
    "    return (g**2 + g_p**2)*phi**2/4 + eps\n",
    "\n",
    "# Higgs and Goldstone masses\n",
    "def m_h(phi, mu, lam, Lam):                                               \n",
    "    return - 3*lam*phi**2 - mu + (15/4)*phi**4/Lam**2 + eps\n",
    "\n",
    "#m_h 0 at h_min = (2/5)*(lam/c6)*(1 - np.sqrt(1-5/3*c6*(mu**2)/lam**2))\n",
    "\n",
    "def m_g(phi, mu, lam, Lam):\n",
    "    return -lam*phi**2 - mu + (3/4)*phi**4/Lam**2 + eps"
   ]
  },
  {
   "cell_type": "code",
   "execution_count": 3,
   "id": "9288a680",
   "metadata": {},
   "outputs": [],
   "source": [
    "# different parts of the 1loop effective potential calculated in the ms-scheme. For the first order correction,\n",
    "# separating the contribution coming from gauge bosons and other particles. obs! input for the first order corrections are \n",
    "# the squared masses, i.e. m**2 and not m.  \n",
    "\n",
    "def v_tree(phi, mu, lam, Lam):\n",
    "    return -mu/2*phi**2 - lam/4*phi**4 + phi**6/(8*Lam**2)\n",
    "\n",
    "def v_loop_g(m):\n",
    "    scale = 246\n",
    "    return m**2/(64*np.pi**2)*(cmath.log(m/scale) - 5/6)\n",
    "\n",
    "def v_loop(m):\n",
    "    scale = 246\n",
    "    return m**2/(64*np.pi**2)*(cmath.log(m/scale) - 3/2)\n",
    "\n",
    "\n",
    "def v_1(phi, mu, lam, Lam):\n",
    "    return np.real(v_loop(m_h(phi, mu, lam, Lam)) + 3*v_loop(m_g(phi, mu, lam, Lam)) - 12*v_loop(m_f(phi))\n",
    "             + 3*v_loop_g(m_Z(phi)) + 6*v_loop_g(m_W(phi)))\n",
    "\n",
    "def v_eff(phi, mu, lam, Lam):\n",
    "    return np.real(v_tree(phi, mu, lam, Lam) + v_1(phi, mu, lam, Lam))"
   ]
  },
  {
   "cell_type": "code",
   "execution_count": 4,
   "id": "0b173ca7",
   "metadata": {},
   "outputs": [],
   "source": [
    "# defining the minimum and second derivative (at the minimum) of the 1-loop potential as a function of the parameter values \n",
    "# \n",
    "def phi_min(mu,lam,Lam):\n",
    "    #initial guess to where the minimum can be is the tree level minimum\n",
    "    if mu < 0:\n",
    "        phi_0 = np.sqrt((2*Lam**2)/3*(lam + np.sqrt(lam**2 - 3*mu/Lam**2)))\n",
    "    else:\n",
    "        phi_0 = np.sqrt((2*Lam**2)/3*(lam + np.sqrt(lam**2 + 3*mu/Lam**2)))\n",
    "        \n",
    "    return optimize.fmin(v_eff, phi_0, args=(mu,lam,Lam),  disp=0)[0]\n",
    "\n",
    "def d2_v(mu,lam,Lam):\n",
    "    \n",
    "    phi = phi_min(mu,lam,Lam)\n",
    "    return derivative(v_eff, phi, args = (mu,lam,Lam), n=2)\n",
    "\n",
    "# function we want to minimimize wrt to parameters mu, lam, Lam to give correct effective potential\n",
    "def opt(x):\n",
    "    mu, lam, Lam = x\n",
    "    v = 246\n",
    "    mh = 125\n",
    "    return (phi_min(mu,lam,Lam) - v)**2 + (np.sqrt(d2_v(mu,lam,Lam)) - mh)**2\n",
    "\n",
    "#Tree level parameters as functions of physical observables to be used as starting guesses for the optimization\n",
    "def mu0(Lam):\n",
    "    mh = 125\n",
    "    v = 246\n",
    "    return mh**2/2 - 3/4*v**4/Lam**2\n",
    "\n",
    "def lam0(Lam):\n",
    "    mh = 125\n",
    "    v = 246\n",
    "    return 3/2*v**2/Lam**2 - mh**2/(2*v**2)                                   "
   ]
  },
  {
   "cell_type": "code",
   "execution_count": 10,
   "id": "a6f69987",
   "metadata": {},
   "outputs": [
    {
     "name": "stdout",
     "output_type": "stream",
     "text": [
      "[array([1.81111891e+02, 5.22413319e-02, 6.34448147e+02]), array([8.60513993e+02, 3.97386648e-02, 6.34632788e+02]), array([1.45213398e+03, 1.02135735e-02, 6.57142848e+02]), array([ 1.97186001e+03, -1.54084482e-03,  7.14295700e+02]), array([ 2.42908801e+03, -1.53618082e-02,  7.40377457e+02]), array([ 2.83697187e+03, -2.39592112e-02,  7.50381924e+02]), array([ 3.19520727e+03, -3.59667075e-02,  7.84055025e+02]), array([ 3.52143276e+03, -4.57733695e-02,  8.01357639e+02]), array([ 3.81176651e+03, -5.60412700e-02,  8.38404224e+02]), array([ 4.07490302e+03, -6.52079847e-02,  8.65610702e+02]), array([ 4.31049523e+03, -7.23587662e-02,  8.89363560e+02]), array([ 4.52822969e+03, -7.89349577e-02,  9.12920628e+02]), array([ 4.72559005e+03, -8.49665936e-02,  9.36497323e+02]), array([ 4.90429760e+03, -9.15621459e-02,  9.71754309e+02]), array([ 5.07008217e+03, -9.54399950e-02,  9.81950870e+02])]\n"
     ]
    }
   ],
   "source": [
    "# Making the list of all parameters which satisfy the T=0 conditions of the effective potential.\n",
    "# Starting with making list of initial conditions\n",
    "\n",
    "Lam = np.linspace(600, 1000, 15)\n",
    "\n",
    "x0 = []\n",
    "\n",
    "for L in Lam:\n",
    "    x0.append([mu0(L), lam0(L), L])\n",
    "\n",
    "\n",
    "parameters = []\n",
    "\n",
    "for row in x0:\n",
    "    results = optimize.minimize(opt, row, tol=1e-6)\n",
    "    parameters.append(results.x)\n",
    "\n",
    "print(parameters)"
   ]
  },
  {
   "cell_type": "code",
   "execution_count": 11,
   "id": "8b05cdf4",
   "metadata": {},
   "outputs": [
    {
     "name": "stdout",
     "output_type": "stream",
     "text": [
      "[array([1.81111891e+02, 5.22413319e-02, 6.34448147e+02]), array([8.60513993e+02, 3.97386648e-02, 6.34632788e+02]), array([1.45213398e+03, 1.02135735e-02, 6.57142848e+02]), array([ 1.97186001e+03, -1.54084482e-03,  7.14295700e+02]), array([ 2.42908801e+03, -1.53618082e-02,  7.40377457e+02]), array([ 2.83697187e+03, -2.39592112e-02,  7.50381924e+02]), array([ 3.19520727e+03, -3.59667075e-02,  7.84055025e+02]), array([ 3.52143276e+03, -4.57733695e-02,  8.01357639e+02]), array([ 3.81176651e+03, -5.60412700e-02,  8.38404224e+02]), array([ 4.07490302e+03, -6.52079847e-02,  8.65610702e+02]), array([ 4.31049523e+03, -7.23587662e-02,  8.89363560e+02]), array([ 4.52822969e+03, -7.89349577e-02,  9.12920628e+02]), array([ 4.72559005e+03, -8.49665936e-02,  9.36497323e+02]), array([ 4.90429760e+03, -9.15621459e-02,  9.71754309e+02]), array([ 5.07008217e+03, -9.54399950e-02,  9.81950870e+02])]\n"
     ]
    }
   ],
   "source": [
    "# Sort the paramaeter values by the third entry i.e along Lam in ascending order\n",
    "# If spacing between different Lam values is big enough, the list will probalby \n",
    "# already be sorted and this step is unneccesary.\n",
    "\n",
    "parameters.sort(key=lambda row: (row[2]), reverse=False)\n",
    "print(parameters)"
   ]
  },
  {
   "cell_type": "code",
   "execution_count": 12,
   "id": "360912f6",
   "metadata": {},
   "outputs": [
    {
     "name": "stdout",
     "output_type": "stream",
     "text": [
      "[[ 1.81111891e+02  5.22413319e-02  6.34448147e+02]\n",
      " [ 8.60513993e+02  3.97386648e-02  6.34632788e+02]\n",
      " [ 1.45213398e+03  1.02135735e-02  6.57142848e+02]\n",
      " [ 1.97186001e+03 -1.54084482e-03  7.14295700e+02]\n",
      " [ 2.42908801e+03 -1.53618082e-02  7.40377457e+02]\n",
      " [ 2.83697187e+03 -2.39592112e-02  7.50381924e+02]\n",
      " [ 3.19520727e+03 -3.59667075e-02  7.84055025e+02]\n",
      " [ 3.52143276e+03 -4.57733695e-02  8.01357639e+02]\n",
      " [ 3.81176651e+03 -5.60412700e-02  8.38404224e+02]\n",
      " [ 4.07490302e+03 -6.52079847e-02  8.65610702e+02]\n",
      " [ 4.31049523e+03 -7.23587662e-02  8.89363560e+02]\n",
      " [ 4.52822969e+03 -7.89349577e-02  9.12920628e+02]\n",
      " [ 4.72559005e+03 -8.49665936e-02  9.36497323e+02]\n",
      " [ 4.90429760e+03 -9.15621459e-02  9.71754309e+02]\n",
      " [ 5.07008217e+03 -9.54399950e-02  9.81950870e+02]]\n"
     ]
    }
   ],
   "source": [
    "# Saving the list results to be later used in other scripts \n",
    "# The values will be saved in a long list, use reshape to get the correct array of tuples with the three parameters\n",
    "parameters_file = open('parameters.txt', 'w')\n",
    "\n",
    "for row in parameters:\n",
    "    np.savetxt(parameters_file, row)\n",
    "    \n",
    "parameters_file.close()\n",
    "\n",
    "og_array = np.loadtxt('parameters.txt').reshape(-1,3)\n",
    "print(og_array)"
   ]
  }
 ],
 "metadata": {
  "kernelspec": {
   "display_name": "Python 3 (ipykernel)",
   "language": "python",
   "name": "python3"
  },
  "language_info": {
   "codemirror_mode": {
    "name": "ipython",
    "version": 3
   },
   "file_extension": ".py",
   "mimetype": "text/x-python",
   "name": "python",
   "nbconvert_exporter": "python",
   "pygments_lexer": "ipython3",
   "version": "3.9.7"
  }
 },
 "nbformat": 4,
 "nbformat_minor": 5
}
