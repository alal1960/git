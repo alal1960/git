{
 "cells": [
  {
   "cell_type": "code",
   "execution_count": 1,
   "id": "1dd1c79a",
   "metadata": {},
   "outputs": [],
   "source": [
    "import scipy.integrate as integrate \n",
    "import math\n",
    "from matplotlib import cm\n",
    "import numpy as np\n",
    "import matplotlib.pyplot as plt\n",
    "from scipy.integrate import solve_ivp\n",
    "import scipy.integrate as integrate \n",
    "import cmath \n",
    "from scipy import optimize\n",
    "from scipy.misc import derivative\n",
    "from decimal import Decimal\n",
    "from decimal import *"
   ]
  },
  {
   "cell_type": "code",
   "execution_count": 2,
   "id": "5c8e5fe1",
   "metadata": {},
   "outputs": [],
   "source": [
    " #Defining the (exact) Bosonic and fermionic thermal functions to be used it the effective potential\n",
    "\n",
    "def Jb(m,T):\n",
    "    \n",
    "    def integrand(k,m,T):    \n",
    "        return k**2*np.log(1 - np.exp(-np.sqrt(k**2 + (m/T)**2)))\n",
    "        \n",
    "    return T**4/(2*np.pi**2)*integrate.quad(integrand, 0, np.inf, args = (m,T))[0]   \n",
    "\n",
    "def Jf(m,T):\n",
    "    \n",
    "    def integrand(k,m, T):    \n",
    "        return k**2*np.log(1 + np.exp(-np.sqrt(k**2 + (m/T)**2)))\n",
    "        \n",
    "    return T**4/(2*np.pi**2)*integrate.quad(integrand, 0, np.inf, args = (m,T))[0]\n",
    "\n",
    "\n",
    "\n",
    "# Derivatives of the thermal functions given by Jb and Jf \n",
    "# Ib is the derivative of the bosonic thermal function w.r.t m\n",
    "def Ib(y):\n",
    "    \n",
    "    def integrand(k,y):\n",
    "        return (k**2)/(np.sqrt(k**2 + y**2))*(np.exp(-np.sqrt((k**2 + y**2)))/(1 - np.exp(-np.sqrt(k**2 + y**2))))\n",
    "\n",
    "    return -y*integrate.quad(integrand, 0, np.inf, args=(y))[0]\n",
    "\n",
    "# If is the derivative of fermionic thermal function w.r.t. m \n",
    "def If(y):\n",
    "    \n",
    "    def integrand(k,y):\n",
    "        return (k**2)/(np.sqrt(k**2 + y**2))*np.exp(-np.sqrt((k**2 + y**2)))/(1 + np.exp(-np.sqrt(k**2 + y**2)))\n",
    "\n",
    "    return y*integrate.quad(integrand, 0, np.inf, args=(y))[0]\n",
    "\n",
    "\n"
   ]
  },
  {
   "cell_type": "code",
   "execution_count": 3,
   "id": "7f3fd451",
   "metadata": {},
   "outputs": [],
   "source": [
    "# Parameters and effective masses to be used in the effective potential\n",
    "# constants of higgs tree level potential\n",
    "mu = 3000\n",
    "lam = 0.01\n",
    "c6 = -1/10000\n",
    "Lam = 246\n",
    "\n",
    "#yukawa coupling constant of fermion f \n",
    "y_f = 0.99                                          #(for the top quark)\n",
    "\n",
    "#EW - sector coupling constants g (SU(2)_L) and g_p (U(1)_Y) \n",
    "g = 0.65\n",
    "g_p = 0.36\n",
    "eps = 0.00001\n",
    "\n",
    "\n",
    "# Effective mass of fermion f acquired through yukawa coupling w/ the Higgs\n",
    "def m_f(phi):\n",
    "    return y_f**2/2*phi**2 + eps\n",
    "\n",
    "# W and Z boson masses\n",
    "def m_W(phi):\n",
    "    return (g**2/4)*phi**2 + eps\n",
    "\n",
    "def m_Z(phi):\n",
    "    return (g**2 + g_p**2)*phi**2/4 + eps\n",
    "\n",
    "# Higgs and Goldstone masses\n",
    "def m_h(phi):                                               \n",
    "    return 3*lam*phi**2 - mu**2 - (15/4)*c6*phi**4 + eps\n",
    "\n",
    "#m_h 0 at h_min = (2/5)*(lam/c6)*(1 - np.sqrt(1-5/3*c6*(mu**2)/lam**2))\n",
    "\n",
    "def m_g(phi):\n",
    "    return lam*phi**2 - mu**2 - (3/4)*c6*phi**4 + eps\n"
   ]
  },
  {
   "cell_type": "code",
   "execution_count": null,
   "id": "85f88279",
   "metadata": {},
   "outputs": [],
   "source": [
    "## Defining the 1-loop effective potential piece by peice starting with the tree level potential and then defining all \n",
    "## 1-loop corrections to be sumed in the final potential \n",
    "\n",
    "def v_0(phi):\n",
    "    return -(mu**2)/2*phi**2 + (lam/4)*phi**4 - (c6/8)*phi**6\n",
    "\n",
    "\n",
    "## the first loop temperature independant correction Coleman-Weinberg potential which is of the form \n",
    "## n_i*m_i(phi)**4/(64*pi**2)*(log(m_i**2/Lam**2) - c_i) where i runs over sum of all particles in the theory and n_i is \n",
    "## the particle's degree of freedom.  Separating the gauge bosons from the rest of the particles\n",
    "\n",
    "def v_cw(m2):\n",
    "    return (m2**2)/(64*np.pi**2)*(cmath.log(m2/Lam**2) - 3/2)\n",
    "\n",
    "def v_cwg(m2):\n",
    "    return (m2**2)/(64*np.pi**2)*(cmath.log(m2/Lam**2) - 5/6)\n",
    "    \n",
    "# High T limits of the thermal functions denoted by jb and jf\n",
    "\n",
    "def jb(x):\n",
    "    a = np.exp(5.4067)\n",
    "    return (np.pi**2/12)*x - (np.pi/6)*cmath.sqrt(x)**3 - (x**2/32)*cmath.log(x/a)\n",
    "\n",
    "\n",
    "def jf(x):\n",
    "    a = np.exp(2.6351)\n",
    "    return -((np.pi**2)/24)*x - (x**2/32)*cmath.log(x/a)\n",
    "\n"
   ]
  },
  {
   "cell_type": "code",
   "execution_count": 50,
   "id": "5d39df9a",
   "metadata": {},
   "outputs": [
    {
     "data": {
      "text/plain": [
       "Text(0.5, 1.0, 'SMEFT effective potential at T = 1100')"
      ]
     },
     "execution_count": 50,
     "metadata": {},
     "output_type": "execute_result"
    },
    {
     "data": {
      "image/png": "[encoded data removed]",
      "text/plain": [
       "<Figure size 432x288 with 1 Axes>"
      ]
     },
     "metadata": {
      "needs_background": "light"
     },
     "output_type": "display_data"
    }
   ],
   "source": [
    "Lam = 246     # regulator/Cutoff(?)\n",
    "\n",
    "#1-loop effective potential\n",
    "def v_eff(phi,T):\n",
    "    return np.real(-(mu**2)/2*phi**2 + (lam/4)*phi**4 - (c6/8)*phi**6\n",
    "            + m_h(phi)**2/(64*np.pi**2)*(cmath.log(m_h(phi)/Lam) - 3/2) + Jb(m_h(phi),T)\n",
    "            + 3*m_g(phi)**2/(64*np.pi**2)*(cmath.log(m_g(phi)/Lam) - 3/2) + 3*Jb(m_g(phi),T)\n",
    "            + 3*m_Z(phi)**2/(64*np.pi**2)*(cmath.log(m_Z(phi)/Lam) - 5/6) + 3*Jb(m_Z(phi),T)\n",
    "            + 6*m_W(phi)**2/(64*np.pi**2)*(cmath.log(m_W(phi)/Lam) - 5/6) + 6*Jb(m_W(phi),T)    \n",
    "            - 12*m_f(phi)**2/(64*np.pi**2)*(cmath.log(m_f(phi)/Lam) - 3/2) - 12*Jf(m_f(phi),T)\n",
    "           )/(Lam**4)\n",
    "\n",
    "vecv_eff = np.vectorize(v_eff)\n",
    "\n",
    "\n",
    "phi = np.linspace(-10,600,500)\n",
    "T = 1100\n",
    "arrv_eff = vecv_eff(phi,T) - v_eff(0,T)\n",
    "\n",
    "\n",
    "plt.plot(phi, arrv_eff)\n",
    "#plt.legend(loc = \"lower left\")\n",
    "plt.xlabel('$\\phi$')\n",
    "plt.ylabel('$V_{eff}(\\phi)$')\n",
    "plt.title('SMEFT effective potential at T = %1.0f'  % T)\n",
    "#plt.ylim(-0.1*1e13, 1*1e13)\n",
    "\n",
    "#Tree level min\n",
    "#phi_min = ((2*lam)/(3*c6))*(1 - np.sqrt(1 - (3*c6*mu**2)/(lam**2)))\n"
   ]
  },
  {
   "cell_type": "code",
   "execution_count": null,
   "id": "0ea40804",
   "metadata": {},
   "outputs": [],
   "source": [
    "#Finding the critical temperature where the effective potential acquires the same value at both minima\n",
    "\n",
    "\n",
    "# defining a recursive method for finding the critical temperature up to some tolerance which is chosen when calling the \n",
    "# function. The function requires a span/interval of temperaturs to as to where it  \n",
    "#\n",
    "# The effective potential is normalized so that the first minimum is at v_eff(phi = 0) regadless of T   \n",
    "# \n",
    "#\n",
    "#\n",
    "#\n",
    "\n",
    "def find_t_crit(t_span, tolerance):\n",
    "    T = np.mean(t_span)\n",
    "    \n",
    "    def v_eff_T(phi):\n",
    "        T = np.mean(t_span)\n",
    "        return v_eff(phi,T) - v_eff(0,T)\n",
    "    min2 = v_eff_T(optimize.fmin(v_eff_T, 600)[0])\n",
    "    \n",
    "    \n",
    "    if abs(min2) < tolerance:\n",
    "        return T\n",
    "    elif min2 > tolerance:                                      \n",
    "        return find_t_crit([t_span[0], np.mean(t_span)],tolerance)\n",
    "    elif min2 < -tolerance:\n",
    "        return find_t_crit([np.mean(t_span), t_span[1]],tolerance)    \n",
    "    \n",
    "    return T\n",
    "\n",
    "\n",
    "t_span = [1000, 1300]\n",
    "tolerance = 1\n",
    "\n",
    "t_c = find_t_crit(t_span, tolerance)   \n",
    "print(t_c)"
   ]
  },
  {
   "cell_type": "code",
   "execution_count": 51,
   "id": "df0fafb3",
   "metadata": {},
   "outputs": [
    {
     "name": "stdout",
     "output_type": "stream",
     "text": [
      "Optimization terminated successfully.\n",
      "         Current function value: -98.846052\n",
      "         Iterations: 24\n",
      "         Function evaluations: 48\n",
      "Optimization terminated successfully.\n",
      "         Current function value: -0.017689\n",
      "         Iterations: 30\n",
      "         Function evaluations: 60\n",
      "436.8891906738281\n",
      "5.356562500000008\n"
     ]
    }
   ],
   "source": [
    "# Finding the bounce action.  \n",
    "tc = 1100\n",
    "\n",
    "def v_eff_tc(phi):\n",
    "    return np.vectorize(v_eff)(phi,tc) - np.vectorize(v_eff)(0,tc)\n",
    "\n",
    "arrv_eff = vecv_eff(phi,tc) - v_eff(0,tc)\n",
    "\n",
    "def v_p(phi):\n",
    "    return derivative(v_eff_tc, phi, dx = 0.01)\n",
    "\n",
    "false_vac = optimize.fmin(v_eff_tc, 600)[0]\n",
    "true_vac = optimize.fmin(v_eff_tc, 0)[0]\n",
    "\n",
    "\n",
    "print(false_vac)\n",
    "print(true_vac)\n",
    "\n",
    "\n",
    "def f(t,y):    \n",
    "    A = y[0]\n",
    "    B = y[1]\n",
    "    \n",
    "    dA_dt = B\n",
    "    dB_dt = v_p(A) - (2/t)*B\n",
    "\n",
    "    return np.array([dA_dt, dB_dt])\n"
   ]
  },
  {
   "cell_type": "code",
   "execution_count": null,
   "id": "b6841083",
   "metadata": {},
   "outputs": [],
   "source": [
    "plt.plot(phi, v_p(phi))"
   ]
  },
  {
   "cell_type": "code",
   "execution_count": 53,
   "id": "2872b9ea",
   "metadata": {},
   "outputs": [
    {
     "name": "stdout",
     "output_type": "stream",
     "text": [
      "157.32250339461154\n",
      "157.32250339461154\n"
     ]
    },
    {
     "data": {
      "text/plain": [
       "[<matplotlib.lines.Line2D at 0x1c028b01c10>]"
      ]
     },
     "execution_count": 53,
     "metadata": {},
     "output_type": "execute_result"
    },
    {
     "data": {
      "image/png": "[encoded data removed]",
      "text/plain": [
       "<Figure size 432x288 with 2 Axes>"
      ]
     },
     "metadata": {
      "needs_background": "light"
     },
     "output_type": "display_data"
    }
   ],
   "source": [
    "t_span = np.array([0.00001,20])\n",
    "\n",
    "times = np.linspace(t_span[0], t_span[1], 100)\n",
    "\n",
    "#Chosing some initial value for t and having zero velocity at t = 0\n",
    "\n",
    "y0 = np.array([400, 0])       \n",
    "\n",
    "soln = solve_ivp(f, t_span, y0, method = 'Radau', vectorized = True, t_eval = times)\n",
    "\n",
    "t = soln.t\n",
    "phi_b = soln.y[0]\n",
    "\n",
    "print(phi_b[-1])\n",
    "print(min(phi_b))\n",
    "\n",
    "plt.subplot(1,2,1)\n",
    "plt.plot(phi, -arrv_eff, phi_b, -v_eff_tc(phi_b))\n",
    "\n",
    "plt.subplot(1,2,2)\n",
    "plt.plot(t,phi_b)"
   ]
  },
  {
   "cell_type": "code",
   "execution_count": null,
   "id": "ac8b7bb9",
   "metadata": {},
   "outputs": [],
   "source": [
    "t_span = np.array([0.001,20])\n",
    "\n",
    "times = np.linspace(t_span[0], t_span[1], 1000)\n",
    "\n",
    "def over_undershoot(init_span, tol):\n",
    "    \n",
    "    init = Decimal(np.mean(init_span))\n",
    "    y0 = np.array([init, 0])\n",
    "    \n",
    "    soln = solve_ivp(f, t_span, y0, t_eval = times)\n",
    "\n",
    "    t = soln.t\n",
    "    phi_b = soln.y[0]\n",
    "    \n",
    "    if np.abs(phi_b[-1] - true_vac) <= tol:\n",
    "        \n",
    "        return phi_b, t\n",
    "    \n",
    "    elif phi_b[-1] > 474  :\n",
    "        #condition for rolling down to the right towards phi = +inf  \n",
    "        #This means we are too far to the right of the false vacuum.\n",
    "        \n",
    "        print('y0 = %1.8f to +infinity and beyond!' % init) \n",
    "        return over_undershoot([init_span[0], init], tol)\n",
    "    elif phi_b[-1] > tol:                                     \n",
    "        # this is condition for undershoot\n",
    "        # need to look higher up in the interval for the correct initial value\n",
    "        \n",
    "        print('y0 = %1.8f results in undershoot'  % init)\n",
    "        print('smallest value of the solution: %1.8f' % min(phi_b))\n",
    "        return over_undershoot([init, init_span[1]],tol)\n",
    "    \n",
    "    elif phi_b[-1] < -tol:                                     \n",
    "        # condition for overshoot, solution has passed phi = 0\n",
    "        # need to lower the initial value\n",
    "        \n",
    "        print('y0 = %1.8f results in overshoot: To -infinity and beyond!'  % init)\n",
    "        return over_undershoot([init_span[0], init], tol)\n",
    "    \n",
    "    return phi_b, t\n",
    "\n",
    "    \n",
    "\n",
    "              \n",
    "init_span = np.array([200, 436])    \n",
    "tol = 10\n",
    "\n",
    "phi_b , t = over_undershoot(init_span,tol)\n",
    "\n",
    "plt.plot(t, phi_b)"
   ]
  },
  {
   "cell_type": "code",
   "execution_count": null,
   "id": "240258b6",
   "metadata": {},
   "outputs": [],
   "source": []
  }
 ],
 "metadata": {
  "kernelspec": {
   "display_name": "Python 3 (ipykernel)",
   "language": "python",
   "name": "python3"
  },
  "language_info": {
   "codemirror_mode": {
    "name": "ipython",
    "version": 3
   },
   "file_extension": ".py",
   "mimetype": "text/x-python",
   "name": "python",
   "nbconvert_exporter": "python",
   "pygments_lexer": "ipython3",
   "version": "3.9.7"
  }
 },
 "nbformat": 4,
 "nbformat_minor": 5
}
