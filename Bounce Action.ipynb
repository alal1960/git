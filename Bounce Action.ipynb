{
 "cells": [
  {
   "cell_type": "code",
   "execution_count": 1,
   "id": "81d62e09",
   "metadata": {},
   "outputs": [],
   "source": [
    "import scipy.integrate as integrate \n",
    "import math\n",
    "from matplotlib import cm\n",
    "import numpy as np\n",
    "import matplotlib.pyplot as plt\n",
    "from scipy.integrate import solve_ivp\n",
    "import scipy.integrate as integrate \n",
    "import cmath \n",
    "from scipy import optimize\n",
    "from scipy.misc import derivative\n",
    "\n",
    "from decimal import Decimal\n",
    "from decimal import *\n",
    "getcontext().prec = 64\n"
   ]
  },
  {
   "cell_type": "code",
   "execution_count": 2,
   "id": "eed78c6f",
   "metadata": {},
   "outputs": [],
   "source": [
    " #Defining the (exact) Bosonic and fermionic thermal functions to be used it the effective potential\n",
    "\n",
    "def Jb(m,T):\n",
    "    \n",
    "    def integrand(k,m,T):    \n",
    "        return k**2*np.log(1 - np.exp(-np.sqrt(k**2 + (m/T)**2)))\n",
    "        \n",
    "    return T**4/(2*np.pi**2)*integrate.quad(integrand, 0, np.inf, args = (m,T))[0]   \n",
    "\n",
    "def Jf(m,T):\n",
    "    \n",
    "    def integrand(k,m, T):    \n",
    "        return k**2*np.log(1 + np.exp(-np.sqrt(k**2 + (m/T)**2)))\n",
    "                                  \n",
    "    return T**4/(2*np.pi**2)*integrate.quad(integrand, 0, np.inf, args = (m,T))[0]\n"
   ]
  },
  {
   "cell_type": "code",
   "execution_count": 4,
   "id": "b1c0ddb9",
   "metadata": {},
   "outputs": [],
   "source": [
    "# Parameters and effective masses to be used in the effective potential\n",
    "# constants of higgs tree level potential\n",
    "mu = 3000\n",
    "lam = 0.01\n",
    "c6 = -1/10000\n",
    "Lam = 246\n",
    "\n",
    "#yukawa coupling constant of fermion f \n",
    "y_f = 0.99                                          #(for the top quark)\n",
    "\n",
    "#EW - sector coupling constants g (SU(2)_L) and g_p (U(1)_Y) \n",
    "g = 0.65\n",
    "g_p = 0.36\n",
    "eps = 0.00001\n",
    "\n",
    "\n",
    "# Effective mass of fermion f acquired through yukawa coupling w/ the Higgs\n",
    "def m_f(phi):\n",
    "    return y_f**2/2*phi**2 + eps\n",
    "\n",
    "# W and Z boson masses\n",
    "def m_W(phi):\n",
    "    return (g**2/4)*phi**2 + eps\n",
    "\n",
    "def m_Z(phi):\n",
    "    return (g**2 + g_p**2)*phi**2/4 + eps\n",
    "\n",
    "# Higgs and Goldstone masses\n",
    "def m_h(phi):                                               \n",
    "    return 3*lam*phi**2 - mu**2 - (15/4)*c6*phi**4 + eps\n",
    "\n",
    "#m_h 0 at h_min = (2/5)*(lam/c6)*(1 - np.sqrt(1-5/3*c6*(mu**2)/lam**2))\n",
    "\n",
    "def m_g(phi):\n",
    "    return lam*phi**2 - mu**2 - (3/4)*c6*phi**4 + eps"
   ]
  },
  {
   "cell_type": "code",
   "execution_count": 126,
   "id": "762f1478",
   "metadata": {},
   "outputs": [
    {
     "data": {
      "text/plain": [
       "Text(0.5, 1.0, '1-loop effective potential at T = 1005')"
      ]
     },
     "execution_count": 126,
     "metadata": {},
     "output_type": "execute_result"
    },
    {
     "data": {
      "image/png": "[encoded data removed]",
      "text/plain": [
       "<Figure size 432x288 with 1 Axes>"
      ]
     },
     "metadata": {
      "needs_background": "light"
     },
     "output_type": "display_data"
    }
   ],
   "source": [
    "Lam = 246     # regulator/Cutoff(?)\n",
    "\n",
    "#1-loop effective potential\n",
    "def v_eff(phi,T):\n",
    "    return np.real(-(mu**2)/2*phi**2 + (lam/4)*phi**4 - (c6/8)*phi**6\n",
    "            + m_h(phi)**2/(64*np.pi**2)*(cmath.log(m_h(phi)/Lam) - 3/2) + Jb(m_h(phi),T)\n",
    "           + 3*m_g(phi)**2/(64*np.pi**2)*(cmath.log(m_g(phi)/Lam) - 3/2) + 3*Jb(m_g(phi),T)\n",
    "            + 3*m_Z(phi)**2/(64*np.pi**2)*(cmath.log(m_Z(phi)/Lam) - 5/6) + 3*Jb(m_Z(phi),T)\n",
    "            + 6*m_W(phi)**2/(64*np.pi**2)*(cmath.log(m_W(phi)/Lam) - 5/6) + 6*Jb(m_W(phi),T)    \n",
    "            - 12*m_f(phi)**2/(64*np.pi**2)*(cmath.log(m_f(phi)/Lam) - 3/2) - 12*Jf(m_f(phi),T)\n",
    "           )/(Lam**4)\n",
    "\n",
    "vecv_eff = np.vectorize(v_eff)\n",
    "\n",
    "\n",
    "phi = np.linspace(-600, 600, 500)\n",
    "T = 1005\n",
    "arrv_eff = vecv_eff(phi,T) - v_eff(0,T)\n",
    "\n",
    "\n",
    "plt.plot(phi, arrv_eff)\n",
    "#plt.legend(loc = \"lower left\")\n",
    "plt.xlabel('$\\phi$')\n",
    "plt.ylabel('$V_{eff}(\\phi)$')\n",
    "plt.title('1-loop effective potential at T = %1.0f'  % T)\n",
    "#plt.ylim(-0.1*1e13, 1*1e13)\n",
    "\n",
    "#Tree level min\n",
    "#phi_min = ((2*lam)/(3*c6))*(1 - np.sqrt(1 - (3*c6*mu**2)/(lam**2)))\n"
   ]
  },
  {
   "cell_type": "code",
   "execution_count": 109,
   "id": "ab37ce6e",
   "metadata": {},
   "outputs": [],
   "source": [
    "# Finding the bounce action at some nucleation temperature later tn chosen s.t s3/tn ~ 140.  \n",
    "tn = 1005\n",
    "\n",
    "def v_eff_tn(phi):\n",
    "    return np.vectorize(v_eff)(phi,tn) - np.vectorize(v_eff)(0,tn)\n",
    "\n",
    "arrv_eff = vecv_eff(phi,tn) - v_eff(0,tn)\n",
    "\n",
    "def v_p(phi):\n",
    "    return derivative(v_eff_tn, phi, dx = 0.00001, order=3)\n",
    "\n",
    "def f(t,y):    \n",
    "    A = y[0]\n",
    "    B = y[1]\n",
    "    \n",
    "    dA_dt = B\n",
    "    dB_dt = v_p(A) - (2/t)*B                                \n",
    "    return np.array([dA_dt, dB_dt])\n"
   ]
  },
  {
   "cell_type": "code",
   "execution_count": 110,
   "id": "fa2efa23",
   "metadata": {},
   "outputs": [
    {
     "name": "stdout",
     "output_type": "stream",
     "text": [
      "Optimization terminated successfully.\n",
      "         Current function value: -0.021202\n",
      "         Iterations: 30\n",
      "         Function evaluations: 60\n",
      "Optimization terminated successfully.\n",
      "         Current function value: -358.075765\n",
      "         Iterations: 24\n",
      "         Function evaluations: 48\n",
      "7.575757575757575\n"
     ]
    }
   ],
   "source": [
    "minimum = optimize.fmin(v_eff_tn, 0)[0]\n",
    "\n",
    "#finding phi within tolerance to use as stop condition for overshoot/undershoot\n",
    "x = np.linspace(0,10,100)\n",
    "tol1 = 1e-2\n",
    "\n",
    "\n",
    "symm_vac = x[np.max(np.where(np.abs(v_eff_tn(x) - (-0.021415))<tol1))]\n",
    "broken_vac = optimize.fmin(v_eff_tn, 600)[0]\n",
    "print(symm_vac)"
   ]
  },
  {
   "cell_type": "code",
   "execution_count": 111,
   "id": "146893c3",
   "metadata": {},
   "outputs": [
    {
     "name": "stdout",
     "output_type": "stream",
     "text": [
      "4.825234048132\n",
      "4.825234048132\n"
     ]
    },
    {
     "data": {
      "text/plain": [
       "[<matplotlib.lines.Line2D at 0x17e642f7670>]"
      ]
     },
     "execution_count": 111,
     "metadata": {},
     "output_type": "execute_result"
    },
    {
     "data": {
      "image/png": "[encoded data removed]",
      "text/plain": [
       "<Figure size 432x288 with 2 Axes>"
      ]
     },
     "metadata": {
      "needs_background": "light"
     },
     "output_type": "display_data"
    }
   ],
   "source": [
    "#Solving EOM for the bounce solution, span, ic. gotten from the overshoot-undershoot procedure. \n",
    "\n",
    "t_span = np.array([eps, 100])\n",
    "\n",
    "times  = np.linspace(t_span[0], t_span[1], 1000)\n",
    "\n",
    "y0 = np.array([436.88922485470766, 0])                        \n",
    "\n",
    "soln = solve_ivp(f, t_span, y0, t_eval = times)\n",
    "\n",
    "r = soln.t\n",
    "phi_b = soln.y[0]\n",
    "dphi_b = soln.y[1]\n",
    "\n",
    "print(phi_b[-1])\n",
    "print(min(phi_b))\n",
    "\n",
    "plt.subplot(1,2,1)\n",
    "plt.plot(r,phi_b) \n",
    "\n",
    "plt.subplot(1,2,2)\n",
    "plt.plot(r,dphi_b)"
   ]
  },
  {
   "cell_type": "code",
   "execution_count": 112,
   "id": "3a616311",
   "metadata": {},
   "outputs": [
    {
     "name": "stdout",
     "output_type": "stream",
     "text": [
      "Go!\n"
     ]
    }
   ],
   "source": [
    "##calculating the bounce action, first we need the radius of the bubble. \n",
    "\n",
    "#Effective potential values of phi = bounce.  \n",
    "v_b = vecv_eff(phi_b,tn) - vecv_eff(broken_vac,tn)\n",
    "print('Go!')"
   ]
  },
  {
   "cell_type": "code",
   "execution_count": 122,
   "id": "367db0d6",
   "metadata": {},
   "outputs": [
    {
     "name": "stdout",
     "output_type": "stream",
     "text": [
      "Bounce action over temperature 928817.1474089328\n"
     ]
    },
    {
     "data": {
      "image/png": "[encoded data removed]",
      "text/plain": [
       "<Figure size 432x288 with 2 Axes>"
      ]
     },
     "metadata": {
      "needs_background": "light"
     },
     "output_type": "display_data"
    }
   ],
   "source": [
    "##calculating the bounce action, first we need the radius of the bubble. \n",
    "#Find the index of the first value which satisfies the critical bubble's solution. and then let that be the bubble wall.\n",
    "\n",
    "index_r = np.where(np.abs(phi_b - symm_vac) <= 9e-1)\n",
    "r_max = r[np.min(index_r)]\n",
    "dphi_b = soln.y[1]\n",
    "\n",
    "# R is the interval over which we want to integrate the functional over to get the bounce action.\n",
    "# L is the euclidean lagrangian density to be integrated.  \n",
    "\n",
    "\n",
    "\n",
    "R = np.linspace(0, r_max, len(phi_b))\n",
    "L = ((1/2)*dphi_b**2 + v_b)\n",
    "\n",
    "s3 = 4*np.pi*np.trapz((R**2)*L, R)\n",
    "print('Bounce action over temperature', s3/tn)\n",
    "\n",
    "# s3/tn = 928817 for tn = 1005,    y0 = 436.88922485470766, t_end = 100\n",
    "# s3/tn = 890854 for tn = 1000,    y0 = 436.8892224311828,  t_end = 100\n",
    "# s3/tn = 427425 for tn = 900,     y0 = 436.8447265625,     t_end = 60\n",
    "# s3/tn = 389186 for tn = 800      y0 = 435.66070783561736  t_end = 55...\n",
    "\n",
    "\n",
    "plt.subplot(1,2,1)\n",
    "plt.plot(R, v_b)\n",
    "plt.xlabel('R')\n",
    "plt.ylabel('$V(\\phi_b(R))$')\n",
    "plt.subplot(1,2,2)\n",
    "plt.plot(phi_b,v_b)\n",
    "plt.xlabel('$\\phi_b$')\n",
    "plt.ylabel('$V(\\phi_b)$')\n",
    "\n",
    "plt.tight_layout()\n"
   ]
  },
  {
   "cell_type": "code",
   "execution_count": 104,
   "id": "aae9e4a3",
   "metadata": {},
   "outputs": [
    {
     "name": "stdout",
     "output_type": "stream",
     "text": [
      "14775666313618.064\n",
      "714.5746521454943\n",
      "-1.1955894510151666\n",
      "0.17718321679842952\n"
     ]
    }
   ],
   "source": [
    "##Calculating the latent heat\n",
    "def v_symm(T):\n",
    "    return v_eff(symm_vac,T)\n",
    "\n",
    "def v_broken(T):\n",
    "    return v_eff(broken_vac,T)\n",
    "\n",
    "# need derivative of the effective potential w.r.t. T at the symmetric and broken phases. \n",
    "\n",
    "def dv_symm(T):\n",
    "    return derivative(v_symm,T ,dx=0.0001, order=3)\n",
    "\n",
    "def dv_broken(T):\n",
    "    return derivative(v_broken,T ,dx=0.0001, order=3)\n",
    "\n",
    "\n",
    "\n",
    "g_star = 109.65\n",
    "rho_rad = np.pi**2*g_star*(tn**4)/30\n",
    "del_v = v_eff_tn(symm_vac) - v_eff_tn(broken_vac)\n",
    "del_dv = dv_symm(tn) - dv_broken(tn)\n",
    "\n",
    "alpha = (1/rho_rad)*(del_v - (1/4)*del_dv)\n",
    "\n",
    "\n",
    "print(rho_rad)\n",
    "print(del_v)\n",
    "print(del_dv)\n",
    "print(alpha*(Lam**4))"
   ]
  },
  {
   "cell_type": "code",
   "execution_count": null,
   "id": "f9d639c7",
   "metadata": {},
   "outputs": [],
   "source": [
    "#Calculating the \n",
    "\n",
    "\n"
   ]
  }
 ],
 "metadata": {
  "kernelspec": {
   "display_name": "Python 3 (ipykernel)",
   "language": "python",
   "name": "python3"
  },
  "language_info": {
   "codemirror_mode": {
    "name": "ipython",
    "version": 3
   },
   "file_extension": ".py",
   "mimetype": "text/x-python",
   "name": "python",
   "nbconvert_exporter": "python",
   "pygments_lexer": "ipython3",
   "version": "3.9.7"
  }
 },
 "nbformat": 4,
 "nbformat_minor": 5
}
